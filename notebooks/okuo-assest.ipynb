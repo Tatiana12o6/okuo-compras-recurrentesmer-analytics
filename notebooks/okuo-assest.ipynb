{
 "cells": [
  {
   "cell_type": "markdown",
   "id": "746dad78",
   "metadata": {},
   "source": [
    "# Importacion de librerias"
   ]
  },
  {
   "cell_type": "code",
   "execution_count": 9,
   "id": "d66df909",
   "metadata": {},
   "outputs": [],
   "source": [
    "import pandas as pd\n",
    "import boto3\n",
    "from dotenv import load_dotenv\n",
    "import os"
   ]
  },
  {
   "cell_type": "markdown",
   "id": "96c0e3a3",
   "metadata": {},
   "source": [
    "# Descarga de los datos desde un compomente de S3 en AWS"
   ]
  },
  {
   "cell_type": "code",
   "execution_count": 10,
   "id": "72e8d0a0",
   "metadata": {},
   "outputs": [],
   "source": [
    "\n",
    "load_dotenv('../.env')\n",
    "ACCESS_KEY = os.getenv('ACCESS_KEY')\n",
    "SECRET_KEY = os.getenv('SECRET_KEY')\n",
    "\n",
    "# Parámetros del bucket\n",
    "bucket_name = 'assessment-86fc5eb8'\n",
    "key = 'raw-data/data.csv'\n",
    "local_path = '../data/data.csv'\n",
    "\n",
    "# Crear carpeta si no existe\n",
    "os.makedirs(os.path.dirname(local_path), exist_ok=True)\n",
    "\n",
    "\n",
    "# Sesión con credenciales explícitas\n",
    "session = boto3.Session(\n",
    "    aws_access_key_id=ACCESS_KEY,\n",
    "    aws_secret_access_key=SECRET_KEY,\n",
    "    region_name='us-east-1' \n",
    ")\n",
    "\n",
    "s3 = session.client('s3')\n",
    "\n",
    "# Descargar archivo\n",
    "s3.download_file(bucket_name, key, local_path)"
   ]
  },
  {
   "cell_type": "markdown",
   "id": "01a5f8a6",
   "metadata": {},
   "source": [
    "# Importacion de los datos"
   ]
  },
  {
   "cell_type": "code",
   "execution_count": 11,
   "id": "5b77a6e5",
   "metadata": {},
   "outputs": [
    {
     "data": {
      "text/html": [
       "<div>\n",
       "<style scoped>\n",
       "    .dataframe tbody tr th:only-of-type {\n",
       "        vertical-align: middle;\n",
       "    }\n",
       "\n",
       "    .dataframe tbody tr th {\n",
       "        vertical-align: top;\n",
       "    }\n",
       "\n",
       "    .dataframe thead th {\n",
       "        text-align: right;\n",
       "    }\n",
       "</style>\n",
       "<table border=\"1\" class=\"dataframe\">\n",
       "  <thead>\n",
       "    <tr style=\"text-align: right;\">\n",
       "      <th></th>\n",
       "      <th>fecha_compra</th>\n",
       "      <th>usuario</th>\n",
       "      <th>producto</th>\n",
       "      <th>cantidad</th>\n",
       "      <th>precio</th>\n",
       "    </tr>\n",
       "  </thead>\n",
       "  <tbody>\n",
       "    <tr>\n",
       "      <th>0</th>\n",
       "      <td>2014-10-01</td>\n",
       "      <td>6cba0c</td>\n",
       "      <td>PROD-efd583</td>\n",
       "      <td>2</td>\n",
       "      <td>164.7</td>\n",
       "    </tr>\n",
       "    <tr>\n",
       "      <th>1</th>\n",
       "      <td>2014-10-01</td>\n",
       "      <td>6cba0c</td>\n",
       "      <td>PROD-a726f5</td>\n",
       "      <td>2</td>\n",
       "      <td>164.7</td>\n",
       "    </tr>\n",
       "    <tr>\n",
       "      <th>2</th>\n",
       "      <td>2014-10-01</td>\n",
       "      <td>6cba0c</td>\n",
       "      <td>PROD-3e1cd9</td>\n",
       "      <td>2</td>\n",
       "      <td>164.7</td>\n",
       "    </tr>\n",
       "    <tr>\n",
       "      <th>3</th>\n",
       "      <td>2014-10-01</td>\n",
       "      <td>6cba0c</td>\n",
       "      <td>PROD-d012c0</td>\n",
       "      <td>2</td>\n",
       "      <td>164.7</td>\n",
       "    </tr>\n",
       "    <tr>\n",
       "      <th>4</th>\n",
       "      <td>2014-10-01</td>\n",
       "      <td>6cba0c</td>\n",
       "      <td>PROD-48924a</td>\n",
       "      <td>3</td>\n",
       "      <td>164.7</td>\n",
       "    </tr>\n",
       "    <tr>\n",
       "      <th>5</th>\n",
       "      <td>2014-10-01</td>\n",
       "      <td>6cba0c</td>\n",
       "      <td>PROD-4c2559</td>\n",
       "      <td>2</td>\n",
       "      <td>164.7</td>\n",
       "    </tr>\n",
       "    <tr>\n",
       "      <th>6</th>\n",
       "      <td>2014-10-01</td>\n",
       "      <td>6cba0c</td>\n",
       "      <td>PROD-10e913</td>\n",
       "      <td>2</td>\n",
       "      <td>164.7</td>\n",
       "    </tr>\n",
       "    <tr>\n",
       "      <th>7</th>\n",
       "      <td>2014-10-01</td>\n",
       "      <td>6cba0c</td>\n",
       "      <td>PROD-3065f9</td>\n",
       "      <td>2</td>\n",
       "      <td>164.7</td>\n",
       "    </tr>\n",
       "    <tr>\n",
       "      <th>8</th>\n",
       "      <td>2014-10-01</td>\n",
       "      <td>6cba0c</td>\n",
       "      <td>PROD-f47365</td>\n",
       "      <td>2</td>\n",
       "      <td>164.7</td>\n",
       "    </tr>\n",
       "    <tr>\n",
       "      <th>9</th>\n",
       "      <td>2014-10-01</td>\n",
       "      <td>6cba0c</td>\n",
       "      <td>PROD-e658d1</td>\n",
       "      <td>1</td>\n",
       "      <td>164.7</td>\n",
       "    </tr>\n",
       "  </tbody>\n",
       "</table>\n",
       "</div>"
      ],
      "text/plain": [
       "  fecha_compra usuario     producto  cantidad  precio\n",
       "0   2014-10-01  6cba0c  PROD-efd583         2   164.7\n",
       "1   2014-10-01  6cba0c  PROD-a726f5         2   164.7\n",
       "2   2014-10-01  6cba0c  PROD-3e1cd9         2   164.7\n",
       "3   2014-10-01  6cba0c  PROD-d012c0         2   164.7\n",
       "4   2014-10-01  6cba0c  PROD-48924a         3   164.7\n",
       "5   2014-10-01  6cba0c  PROD-4c2559         2   164.7\n",
       "6   2014-10-01  6cba0c  PROD-10e913         2   164.7\n",
       "7   2014-10-01  6cba0c  PROD-3065f9         2   164.7\n",
       "8   2014-10-01  6cba0c  PROD-f47365         2   164.7\n",
       "9   2014-10-01  6cba0c  PROD-e658d1         1   164.7"
      ]
     },
     "execution_count": 11,
     "metadata": {},
     "output_type": "execute_result"
    }
   ],
   "source": [
    "df = pd.read_csv(local_path)\n",
    "df.head(10)"
   ]
  },
  {
   "cell_type": "code",
   "execution_count": 12,
   "id": "2da53dad",
   "metadata": {},
   "outputs": [
    {
     "name": "stdout",
     "output_type": "stream",
     "text": [
      "Número de usuarios únicos : 197392 y número de productos únicos: 16854\n"
     ]
    }
   ],
   "source": [
    "num_usuarios=len(df['usuario'].unique())\n",
    "num_productos=len(df['producto'].unique())\n",
    "print(f\"Número de usuarios únicos : {num_usuarios} y número de productos únicos: {num_productos}\")"
   ]
  },
  {
   "cell_type": "markdown",
   "id": "56147fd9",
   "metadata": {},
   "source": [
    "# Paso 1: Identificar ¿cuales son los clientes recurrentes"
   ]
  },
  {
   "cell_type": "markdown",
   "id": "8e3abcab",
   "metadata": {},
   "source": [
    "#### Los clientes recurrentes deben cumplir esta condicion. Un cliente es recurrente si:\n",
    "\n",
    "Hace más de una compra.\n",
    "(Es decir, el cliente ha comprado al menos dos veces.)\n",
    "\n",
    "Cada compra tiene más de 10 productos.\n",
    "(En cada compra que cuenta, la cantidad total de productos debe ser mayor a 10.)\n",
    "\n",
    "Las compras ocurren dentro de períodos de 30 días.\n",
    "(Entre una compra y la siguiente, pasan 30 días o menos.)"
   ]
  },
  {
   "cell_type": "code",
   "execution_count": 13,
   "id": "e201ccd0",
   "metadata": {},
   "outputs": [
    {
     "data": {
      "text/html": [
       "<div>\n",
       "<style scoped>\n",
       "    .dataframe tbody tr th:only-of-type {\n",
       "        vertical-align: middle;\n",
       "    }\n",
       "\n",
       "    .dataframe tbody tr th {\n",
       "        vertical-align: top;\n",
       "    }\n",
       "\n",
       "    .dataframe thead th {\n",
       "        text-align: right;\n",
       "    }\n",
       "</style>\n",
       "<table border=\"1\" class=\"dataframe\">\n",
       "  <thead>\n",
       "    <tr style=\"text-align: right;\">\n",
       "      <th></th>\n",
       "      <th>usuario</th>\n",
       "      <th>fecha_compra</th>\n",
       "      <th>productos_comprados</th>\n",
       "    </tr>\n",
       "  </thead>\n",
       "  <tbody>\n",
       "    <tr>\n",
       "      <th>0</th>\n",
       "      <td>000019</td>\n",
       "      <td>2014-10-26</td>\n",
       "      <td>42</td>\n",
       "    </tr>\n",
       "    <tr>\n",
       "      <th>1</th>\n",
       "      <td>000019</td>\n",
       "      <td>2014-12-24</td>\n",
       "      <td>25</td>\n",
       "    </tr>\n",
       "    <tr>\n",
       "      <th>3</th>\n",
       "      <td>00009c</td>\n",
       "      <td>2014-12-16</td>\n",
       "      <td>47</td>\n",
       "    </tr>\n",
       "    <tr>\n",
       "      <th>8</th>\n",
       "      <td>000166</td>\n",
       "      <td>2014-11-08</td>\n",
       "      <td>12</td>\n",
       "    </tr>\n",
       "    <tr>\n",
       "      <th>9</th>\n",
       "      <td>000166</td>\n",
       "      <td>2014-11-25</td>\n",
       "      <td>37</td>\n",
       "    </tr>\n",
       "    <tr>\n",
       "      <th>11</th>\n",
       "      <td>000342</td>\n",
       "      <td>2014-10-31</td>\n",
       "      <td>14</td>\n",
       "    </tr>\n",
       "    <tr>\n",
       "      <th>12</th>\n",
       "      <td>000342</td>\n",
       "      <td>2014-12-06</td>\n",
       "      <td>16</td>\n",
       "    </tr>\n",
       "    <tr>\n",
       "      <th>15</th>\n",
       "      <td>000481</td>\n",
       "      <td>2014-11-15</td>\n",
       "      <td>113</td>\n",
       "    </tr>\n",
       "    <tr>\n",
       "      <th>16</th>\n",
       "      <td>00065b</td>\n",
       "      <td>2014-10-29</td>\n",
       "      <td>157</td>\n",
       "    </tr>\n",
       "    <tr>\n",
       "      <th>18</th>\n",
       "      <td>0006ec</td>\n",
       "      <td>2014-12-28</td>\n",
       "      <td>82</td>\n",
       "    </tr>\n",
       "  </tbody>\n",
       "</table>\n",
       "</div>"
      ],
      "text/plain": [
       "   usuario fecha_compra  productos_comprados\n",
       "0   000019   2014-10-26                   42\n",
       "1   000019   2014-12-24                   25\n",
       "3   00009c   2014-12-16                   47\n",
       "8   000166   2014-11-08                   12\n",
       "9   000166   2014-11-25                   37\n",
       "11  000342   2014-10-31                   14\n",
       "12  000342   2014-12-06                   16\n",
       "15  000481   2014-11-15                  113\n",
       "16  00065b   2014-10-29                  157\n",
       "18  0006ec   2014-12-28                   82"
      ]
     },
     "execution_count": 13,
     "metadata": {},
     "output_type": "execute_result"
    }
   ],
   "source": [
    "# Convertir fecha a datetime\n",
    "df['fecha_compra'] = pd.to_datetime(df['fecha_compra'])\n",
    "\n",
    "# Agrupar por usuario y fecha, sumar productos comprados\n",
    "compras = df.groupby(['usuario', 'fecha_compra']).agg(\n",
    "    productos_comprados=('cantidad', 'sum')\n",
    ").reset_index()\n",
    "\n",
    "# Filtrar compras con más de 10 productos\n",
    "compras_validas = compras[compras['productos_comprados'] > 10].copy()\n",
    "\n",
    "# Ordenar por usuario y fecha\n",
    "compras_validas = compras_validas.sort_values(['usuario', 'fecha_compra'])\n",
    "compras_validas.head(10)"
   ]
  },
  {
   "cell_type": "markdown",
   "id": "c45b5261",
   "metadata": {},
   "source": [
    "Identificar los clientes que hacen más de una compra"
   ]
  },
  {
   "cell_type": "code",
   "execution_count": 14,
   "id": "c100ab7e",
   "metadata": {},
   "outputs": [
    {
     "name": "stdout",
     "output_type": "stream",
     "text": [
      "  usuario fecha_compra  productos_comprados  num_compras_validas\n",
      "0  000019   2014-10-26                   42                    2\n",
      "1  000019   2014-12-24                   25                    2\n",
      "2  000166   2014-11-08                   12                    2\n",
      "3  000166   2014-11-25                   37                    2\n",
      "4  000342   2014-10-31                   14                    2\n"
     ]
    }
   ],
   "source": [
    "# Contar número de compras válidas por usuario\n",
    "conteo_compras = compras_validas.groupby('usuario').size().reset_index(name='num_compras_validas')\n",
    "\n",
    "# Filtrar solo usuarios con más de una compra válida\n",
    "usuarios_mas_de_una_compra = conteo_compras[conteo_compras['num_compras_validas'] > 1]\n",
    "\n",
    "# Unir esa información a la tabla de compras válidas\n",
    "compras_recurrentes = compras_validas.merge(usuarios_mas_de_una_compra, on='usuario')\n",
    "\n",
    "# Resultado\n",
    "print(compras_recurrentes.head())"
   ]
  },
  {
   "cell_type": "markdown",
   "id": "5e14656b",
   "metadata": {},
   "source": [
    "Por información ¿Cuántos de estos clientes me realizan más de dos compras? "
   ]
  },
  {
   "cell_type": "code",
   "execution_count": 15,
   "id": "86699d45",
   "metadata": {},
   "outputs": [
    {
     "name": "stdout",
     "output_type": "stream",
     "text": [
      "Clientes con más de 2 compras válidas: 52814\n"
     ]
    }
   ],
   "source": [
    "# Contar número de compras válidas por usuario\n",
    "conteo_compras = compras_validas.groupby('usuario').size().reset_index(name='num_compras_validas')\n",
    "\n",
    "# Filtrar usuarios con más de 2 compras válidas\n",
    "usuarios_mas_de_dos_compras = conteo_compras[conteo_compras['num_compras_validas'] > 2]\n",
    "\n",
    "# Mostrar cuántos son\n",
    "print(f\"Clientes con más de 2 compras válidas: {len(usuarios_mas_de_dos_compras)}\")"
   ]
  },
  {
   "cell_type": "markdown",
   "id": "6fdecf74",
   "metadata": {},
   "source": [
    "Identificar de los clientes cuáles compran en un intervalo de 30 dias "
   ]
  },
  {
   "cell_type": "code",
   "execution_count": 16,
   "id": "0a5c6309",
   "metadata": {},
   "outputs": [
    {
     "name": "stdout",
     "output_type": "stream",
     "text": [
      "Clientes recurrentes (compras en ≤ 30 días): 65448\n",
      "   usuario fecha_compra  productos_comprados  dif_dias\n",
      "8   000166   2014-11-08                   12       NaN\n",
      "9   000166   2014-11-25                   37      17.0\n",
      "40  000998   2014-12-25                   31       NaN\n",
      "41  000998   2014-12-28                   56       3.0\n",
      "44  000a09   2014-10-07                   42       NaN\n"
     ]
    }
   ],
   "source": [
    "# 1. Calcular dif_dias\n",
    "compras_validas['dif_dias'] = compras_validas.groupby('usuario')['fecha_compra'].diff().dt.days\n",
    "\n",
    "# 2. Filtrar usuarios con más de una compra\n",
    "multi_compra = compras_validas.groupby('usuario').filter(lambda g: len(g) > 1)\n",
    "\n",
    "# 3. Filtrar compras donde alguna diferencia de días es <= 30\n",
    "mask = (\n",
    "    multi_compra\n",
    "    .groupby('usuario')['dif_dias']\n",
    "    .transform(lambda s: s.dropna().le(30).any())\n",
    ")\n",
    "compras_recurrentes_30d = multi_compra[mask].copy()\n",
    "\n",
    "# 4. Usuarios únicos resultantes\n",
    "usuarios_recurrentes = compras_recurrentes_30d['usuario'].unique()\n",
    "\n",
    "print(f\"Clientes recurrentes (compras en ≤ 30 días): {len(usuarios_recurrentes)}\")\n",
    "print(compras_recurrentes_30d.head())"
   ]
  },
  {
   "cell_type": "markdown",
   "id": "099bfbb0",
   "metadata": {},
   "source": [
    "Revisar las comprar de un cliente"
   ]
  },
  {
   "cell_type": "code",
   "execution_count": 17,
   "id": "d636aacd",
   "metadata": {},
   "outputs": [
    {
     "name": "stdout",
     "output_type": "stream",
     "text": [
      "  usuario fecha_compra  productos_comprados  dif_dias\n",
      "8  000166   2014-11-08                   12       NaN\n",
      "9  000166   2014-11-25                   37      17.0\n"
     ]
    }
   ],
   "source": [
    "cliente = '000166'\n",
    "info_000166 = compras_recurrentes_30d[\n",
    "    compras_recurrentes_30d['usuario'] == cliente\n",
    "]\n",
    "\n",
    "# Mostrar columnas clave del usuario que estoy revisando\n",
    "print(info_000166[['usuario', 'fecha_compra', 'productos_comprados', 'dif_dias']])"
   ]
  },
  {
   "cell_type": "markdown",
   "id": "4461dd96",
   "metadata": {},
   "source": [
    "# Objetivo: Construir una tabla RFM (Recency–Frequency–Monetary): \n",
    "\n",
    "#Priorizar acciones de marketing, Segmentar de forma objetiva, Diseñar promociones personalizadas"
   ]
  },
  {
   "cell_type": "code",
   "execution_count": 18,
   "id": "f39c274f",
   "metadata": {},
   "outputs": [
    {
     "name": "stdout",
     "output_type": "stream",
     "text": [
      "   usuario fecha_compra  frequency_dynamic  monetary_dynamic  recency_dynamic\n",
      "8   000166   2014-11-08                  1                12              0.0\n",
      "9   000166   2014-11-25                  2                49             17.0\n",
      "40  000998   2014-12-25                  1                31              0.0\n",
      "41  000998   2014-12-28                  2                87              3.0\n",
      "44  000a09   2014-10-07                  1                42              0.0\n",
      "45  000a09   2014-11-27                  2                97             51.0\n",
      "46  000a09   2014-12-04                  3               149              7.0\n",
      "52  000b65   2014-10-08                  1                35              0.0\n",
      "53  000b65   2014-10-16                  2                48              8.0\n",
      "54  000b65   2014-10-25                  3                76              9.0\n"
     ]
    }
   ],
   "source": [
    "compras_recurrentes_30d = compras_recurrentes_30d.sort_values(['usuario', 'fecha_compra'])\n",
    "\n",
    "# 2. Creamos funciones para calcular frecuencia y monto acumulados por usuario hasta cada fecha_compra\n",
    "def calc_cumulative_counts(df):\n",
    "    return df.groupby('usuario').cumcount() + 1  # frequency acumulado\n",
    "\n",
    "def calc_cumulative_monetary(df):\n",
    "    return df.groupby('usuario')['productos_comprados'].cumsum()  # monetary acumulado\n",
    "\n",
    "compras_recurrentes_30d['frequency_dynamic'] = calc_cumulative_counts(compras_recurrentes_30d)\n",
    "compras_recurrentes_30d['monetary_dynamic'] = calc_cumulative_monetary(compras_recurrentes_30d)\n",
    "\n",
    "# 3. Para recency dinámico: para cada fila, recency es la diferencia en días entre la fecha_compra de esa fila y la última compra previa\n",
    "# Primero calculamos la última fecha de compra anterior a la actual (shift por usuario)\n",
    "compras_recurrentes_30d['last_purchase_prior'] = (\n",
    "    compras_recurrentes_30d\n",
    "    .groupby('usuario')['fecha_compra']\n",
    "    .shift(1)\n",
    ")\n",
    "\n",
    "# Recency dinámico es la diferencia entre la fecha de la fila y la última compra previa\n",
    "compras_recurrentes_30d['recency_dynamic'] = (\n",
    "    (compras_recurrentes_30d['fecha_compra'] - compras_recurrentes_30d['last_purchase_prior'])\n",
    "    .dt.days\n",
    ")\n",
    "\n",
    "# Nota: La primera compra por usuario tendrá recency_dynamic = NaN (porque no hay compra anterior)\n",
    "\n",
    "# 4. Puedes llenar ese NaN con algún valor si quieres, por ejemplo 0 o un valor grande (depende de tu análisis)\n",
    "compras_recurrentes_30d['recency_dynamic'] = compras_recurrentes_30d['recency_dynamic'].fillna(0)\n",
    "\n",
    "# Ahora tienes variables RFM que cambian para cada fila y reflejan el historial acumulado hasta ese momento\n",
    "print(compras_recurrentes_30d[['usuario', 'fecha_compra', 'frequency_dynamic', 'monetary_dynamic', 'recency_dynamic']].head(10))\n",
    "\n"
   ]
  },
  {
   "cell_type": "markdown",
   "id": "d3d94c09",
   "metadata": {},
   "source": [
    "Incorporar la variable mes"
   ]
  },
  {
   "cell_type": "code",
   "execution_count": 19,
   "id": "70c04713",
   "metadata": {},
   "outputs": [
    {
     "name": "stdout",
     "output_type": "stream",
     "text": [
      "   usuario fecha_compra  mes  frequency_dynamic  monetary_dynamic  \\\n",
      "8   000166   2014-11-08   11                  1                12   \n",
      "9   000166   2014-11-25   11                  2                49   \n",
      "40  000998   2014-12-25   12                  1                31   \n",
      "41  000998   2014-12-28   12                  2                87   \n",
      "44  000a09   2014-10-07   10                  1                42   \n",
      "45  000a09   2014-11-27   11                  2                97   \n",
      "46  000a09   2014-12-04   12                  3               149   \n",
      "52  000b65   2014-10-08   10                  1                35   \n",
      "53  000b65   2014-10-16   10                  2                48   \n",
      "54  000b65   2014-10-25   10                  3                76   \n",
      "\n",
      "    recency_dynamic  \n",
      "8               0.0  \n",
      "9              17.0  \n",
      "40              0.0  \n",
      "41              3.0  \n",
      "44              0.0  \n",
      "45             51.0  \n",
      "46              7.0  \n",
      "52              0.0  \n",
      "53              8.0  \n",
      "54              9.0  \n"
     ]
    }
   ],
   "source": [
    "# Convertir fecha_compra a datetime\n",
    "compras_recurrentes_30d['fecha_compra'] = pd.to_datetime(compras_recurrentes_30d['fecha_compra'])\n",
    "\n",
    "# Crear columna 'mes' en formato año-mes (ej: 2014-11)\n",
    "compras_recurrentes_30d['mes'] = compras_recurrentes_30d['fecha_compra'].dt.month\n",
    "\n",
    "# Verificar resultado\n",
    "print(compras_recurrentes_30d[['usuario', 'fecha_compra', 'mes', 'frequency_dynamic', 'monetary_dynamic', 'recency_dynamic']].head(10))\n",
    "\n",
    "# Creamos base_enriquecida como copia actualizada\n",
    "base_enriquecida = compras_recurrentes_30d.copy()\n"
   ]
  },
  {
   "cell_type": "markdown",
   "id": "6a257525",
   "metadata": {},
   "source": [
    "# Predecir los 3 productos más probables (baseline sencillo)"
   ]
  },
  {
   "cell_type": "code",
   "execution_count": 20,
   "id": "ae00c7b9",
   "metadata": {},
   "outputs": [],
   "source": [
    "import pandas as pd\n",
    "\n",
    "# Asumo que df ya está cargado con columnas: usuario, producto, cantidad\n",
    "\n",
    "# Agrupar productos por usuario y sumar las cantidades\n",
    "productos_por_usuario = (\n",
    "    df.groupby(['usuario', 'producto'])['cantidad']\n",
    "    .sum()\n",
    "    .reset_index()\n",
    ")\n",
    "\n",
    "# Ordenar productos por usuario según cantidad comprada descendente\n",
    "productos_por_usuario = productos_por_usuario.sort_values(['usuario', 'cantidad'], ascending=[True, False])\n",
    "\n",
    "# Crear lista con los productos ordenados por cantidad para cada usuario\n",
    "productos_ordenados = (\n",
    "    productos_por_usuario.groupby('usuario')['producto']\n",
    "    .apply(list)\n",
    "    .reset_index(name='productos_ordenados')\n",
    ")\n"
   ]
  },
  {
   "cell_type": "code",
   "execution_count": 21,
   "id": "e2a46372",
   "metadata": {},
   "outputs": [],
   "source": [
    "# Tomar solo los 3 primeros productos por usuario\n",
    "productos_ordenados['top_3_productos'] = productos_ordenados['productos_ordenados'].apply(lambda x: x[:3])"
   ]
  },
  {
   "cell_type": "code",
   "execution_count": 22,
   "id": "7064fb27",
   "metadata": {},
   "outputs": [],
   "source": [
    "# Suponiendo base_enriquecida tiene la columna usuario\n",
    "base_con_productos = base_enriquecida.merge(\n",
    "    productos_ordenados[['usuario', 'top_3_productos']],\n",
    "    on='usuario',\n",
    "    how='left'\n",
    ")\n",
    "\n",
    "# Ahora base_con_productos tiene la columna 'top_3_productos' con la predicción sencilla para cada usuario\n"
   ]
  },
  {
   "cell_type": "code",
   "execution_count": 23,
   "id": "cb380180",
   "metadata": {},
   "outputs": [
    {
     "name": "stdout",
     "output_type": "stream",
     "text": [
      "  usuario                          top_3_productos\n",
      "0  000166  [PROD-62e82f, PROD-0256a8, PROD-4d5e04]\n",
      "1  000166  [PROD-62e82f, PROD-0256a8, PROD-4d5e04]\n",
      "2  000998  [PROD-74efc1, PROD-dab6fc, PROD-5eb939]\n",
      "3  000998  [PROD-74efc1, PROD-dab6fc, PROD-5eb939]\n",
      "4  000a09  [PROD-3bea74, PROD-412320, PROD-66a332]\n"
     ]
    }
   ],
   "source": [
    "print(base_con_productos[['usuario', 'top_3_productos']].head())"
   ]
  }
 ],
 "metadata": {
  "kernelspec": {
   "display_name": "Python 3",
   "language": "python",
   "name": "python3"
  },
  "language_info": {
   "codemirror_mode": {
    "name": "ipython",
    "version": 3
   },
   "file_extension": ".py",
   "mimetype": "text/x-python",
   "name": "python",
   "nbconvert_exporter": "python",
   "pygments_lexer": "ipython3",
   "version": "3.12.1"
  }
 },
 "nbformat": 4,
 "nbformat_minor": 5
}
