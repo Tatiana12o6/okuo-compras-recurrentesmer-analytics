{
 "cells": [
  {
   "cell_type": "code",
   "execution_count": 6,
   "id": "72e8d0a0",
   "metadata": {},
   "outputs": [],
   "source": [
    "import boto3\n",
    "from dotenv import load_dotenv\n",
    "import os\n",
    "\n",
    "load_dotenv('../.env')\n",
    "ACCESS_KEY = os.getenv('ACCESS_KEY')\n",
    "SECRET_KEY = os.getenv('SECRET_KEY')\n",
    "\n",
    "# Parámetros del bucket\n",
    "bucket_name = 'assessment-86fc5eb8'\n",
    "key = 'raw-data/data.csv'\n",
    "local_path = '../data/data.csv'\n",
    "\n",
    "# Crear carpeta si no existe\n",
    "os.makedirs(os.path.dirname(local_path), exist_ok=True)\n",
    "\n",
    "\n",
    "# Sesión con credenciales explícitas\n",
    "session = boto3.Session(\n",
    "    aws_access_key_id=ACCESS_KEY,\n",
    "    aws_secret_access_key=SECRET_KEY,\n",
    "    region_name='us-east-1' \n",
    ")\n",
    "\n",
    "s3 = session.client('s3')\n",
    "\n",
    "# Descargar archivo\n",
    "s3.download_file(bucket_name, key, local_path)"
   ]
  }
 ],
 "metadata": {
  "kernelspec": {
   "display_name": ".venv",
   "language": "python",
   "name": "python3"
  },
  "language_info": {
   "codemirror_mode": {
    "name": "ipython",
    "version": 3
   },
   "file_extension": ".py",
   "mimetype": "text/x-python",
   "name": "python",
   "nbconvert_exporter": "python",
   "pygments_lexer": "ipython3",
   "version": "3.12.1"
  }
 },
 "nbformat": 4,
 "nbformat_minor": 5
}
