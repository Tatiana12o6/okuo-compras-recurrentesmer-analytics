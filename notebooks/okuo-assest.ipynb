{
 "cells": [
  {
   "cell_type": "markdown",
   "id": "746dad78",
   "metadata": {},
   "source": [
    "# Importacion de librerias"
   ]
  },
  {
   "cell_type": "code",
   "execution_count": 8,
   "id": "d66df909",
   "metadata": {},
   "outputs": [],
   "source": [
    "import pandas as pd\n",
    "import boto3\n",
    "from dotenv import load_dotenv\n",
    "import os"
   ]
  },
  {
   "cell_type": "markdown",
   "id": "96c0e3a3",
   "metadata": {},
   "source": [
    "# Descarga de los datos desde un compomente de S3 en AWS"
   ]
  },
  {
   "cell_type": "code",
   "execution_count": 10,
   "id": "72e8d0a0",
   "metadata": {},
   "outputs": [],
   "source": [
    "\n",
    "load_dotenv('../.env')\n",
    "ACCESS_KEY = os.getenv('ACCESS_KEY')\n",
    "SECRET_KEY = os.getenv('SECRET_KEY')\n",
    "\n",
    "# Parámetros del bucket\n",
    "bucket_name = 'assessment-86fc5eb8'\n",
    "key = 'raw-data/data.csv'\n",
    "local_path = '../data/data.csv'\n",
    "\n",
    "# Crear carpeta si no existe\n",
    "os.makedirs(os.path.dirname(local_path), exist_ok=True)\n",
    "\n",
    "\n",
    "# Sesión con credenciales explícitas\n",
    "session = boto3.Session(\n",
    "    aws_access_key_id=ACCESS_KEY,\n",
    "    aws_secret_access_key=SECRET_KEY,\n",
    "    region_name='us-east-1' \n",
    ")\n",
    "\n",
    "s3 = session.client('s3')\n",
    "\n",
    "# Descargar archivo\n",
    "s3.download_file(bucket_name, key, local_path)"
   ]
  },
  {
   "cell_type": "markdown",
   "id": "01a5f8a6",
   "metadata": {},
   "source": [
    "# Importacion de los datos"
   ]
  },
  {
   "cell_type": "code",
   "execution_count": 11,
   "id": "5b77a6e5",
   "metadata": {},
   "outputs": [
    {
     "data": {
      "text/html": [
       "<div>\n",
       "<style scoped>\n",
       "    .dataframe tbody tr th:only-of-type {\n",
       "        vertical-align: middle;\n",
       "    }\n",
       "\n",
       "    .dataframe tbody tr th {\n",
       "        vertical-align: top;\n",
       "    }\n",
       "\n",
       "    .dataframe thead th {\n",
       "        text-align: right;\n",
       "    }\n",
       "</style>\n",
       "<table border=\"1\" class=\"dataframe\">\n",
       "  <thead>\n",
       "    <tr style=\"text-align: right;\">\n",
       "      <th></th>\n",
       "      <th>fecha_compra</th>\n",
       "      <th>usuario</th>\n",
       "      <th>producto</th>\n",
       "      <th>cantidad</th>\n",
       "      <th>precio</th>\n",
       "    </tr>\n",
       "  </thead>\n",
       "  <tbody>\n",
       "    <tr>\n",
       "      <th>0</th>\n",
       "      <td>2014-10-01</td>\n",
       "      <td>6cba0c</td>\n",
       "      <td>PROD-efd583</td>\n",
       "      <td>2</td>\n",
       "      <td>164.7</td>\n",
       "    </tr>\n",
       "    <tr>\n",
       "      <th>1</th>\n",
       "      <td>2014-10-01</td>\n",
       "      <td>6cba0c</td>\n",
       "      <td>PROD-a726f5</td>\n",
       "      <td>2</td>\n",
       "      <td>164.7</td>\n",
       "    </tr>\n",
       "    <tr>\n",
       "      <th>2</th>\n",
       "      <td>2014-10-01</td>\n",
       "      <td>6cba0c</td>\n",
       "      <td>PROD-3e1cd9</td>\n",
       "      <td>2</td>\n",
       "      <td>164.7</td>\n",
       "    </tr>\n",
       "    <tr>\n",
       "      <th>3</th>\n",
       "      <td>2014-10-01</td>\n",
       "      <td>6cba0c</td>\n",
       "      <td>PROD-d012c0</td>\n",
       "      <td>2</td>\n",
       "      <td>164.7</td>\n",
       "    </tr>\n",
       "    <tr>\n",
       "      <th>4</th>\n",
       "      <td>2014-10-01</td>\n",
       "      <td>6cba0c</td>\n",
       "      <td>PROD-48924a</td>\n",
       "      <td>3</td>\n",
       "      <td>164.7</td>\n",
       "    </tr>\n",
       "    <tr>\n",
       "      <th>5</th>\n",
       "      <td>2014-10-01</td>\n",
       "      <td>6cba0c</td>\n",
       "      <td>PROD-4c2559</td>\n",
       "      <td>2</td>\n",
       "      <td>164.7</td>\n",
       "    </tr>\n",
       "    <tr>\n",
       "      <th>6</th>\n",
       "      <td>2014-10-01</td>\n",
       "      <td>6cba0c</td>\n",
       "      <td>PROD-10e913</td>\n",
       "      <td>2</td>\n",
       "      <td>164.7</td>\n",
       "    </tr>\n",
       "    <tr>\n",
       "      <th>7</th>\n",
       "      <td>2014-10-01</td>\n",
       "      <td>6cba0c</td>\n",
       "      <td>PROD-3065f9</td>\n",
       "      <td>2</td>\n",
       "      <td>164.7</td>\n",
       "    </tr>\n",
       "    <tr>\n",
       "      <th>8</th>\n",
       "      <td>2014-10-01</td>\n",
       "      <td>6cba0c</td>\n",
       "      <td>PROD-f47365</td>\n",
       "      <td>2</td>\n",
       "      <td>164.7</td>\n",
       "    </tr>\n",
       "    <tr>\n",
       "      <th>9</th>\n",
       "      <td>2014-10-01</td>\n",
       "      <td>6cba0c</td>\n",
       "      <td>PROD-e658d1</td>\n",
       "      <td>1</td>\n",
       "      <td>164.7</td>\n",
       "    </tr>\n",
       "  </tbody>\n",
       "</table>\n",
       "</div>"
      ],
      "text/plain": [
       "  fecha_compra usuario     producto  cantidad  precio\n",
       "0   2014-10-01  6cba0c  PROD-efd583         2   164.7\n",
       "1   2014-10-01  6cba0c  PROD-a726f5         2   164.7\n",
       "2   2014-10-01  6cba0c  PROD-3e1cd9         2   164.7\n",
       "3   2014-10-01  6cba0c  PROD-d012c0         2   164.7\n",
       "4   2014-10-01  6cba0c  PROD-48924a         3   164.7\n",
       "5   2014-10-01  6cba0c  PROD-4c2559         2   164.7\n",
       "6   2014-10-01  6cba0c  PROD-10e913         2   164.7\n",
       "7   2014-10-01  6cba0c  PROD-3065f9         2   164.7\n",
       "8   2014-10-01  6cba0c  PROD-f47365         2   164.7\n",
       "9   2014-10-01  6cba0c  PROD-e658d1         1   164.7"
      ]
     },
     "execution_count": 11,
     "metadata": {},
     "output_type": "execute_result"
    }
   ],
   "source": [
    "df = pd.read_csv(local_path)\n",
    "df.head(10)"
   ]
  },
  {
   "cell_type": "code",
   "execution_count": 13,
   "id": "2da53dad",
   "metadata": {},
   "outputs": [
    {
     "name": "stdout",
     "output_type": "stream",
     "text": [
      "Número de usuarios únicos : 197392 y número de productos únicos: 16854\n"
     ]
    }
   ],
   "source": [
    "num_usuarios=len(df['usuario'].unique())\n",
    "num_productos=len(df['producto'].unique())\n",
    "print(f\"Número de usuarios únicos : {num_usuarios} y número de productos únicos: {num_productos}\")"
   ]
  }
 ],
 "metadata": {
  "kernelspec": {
   "display_name": ".venv",
   "language": "python",
   "name": "python3"
  },
  "language_info": {
   "codemirror_mode": {
    "name": "ipython",
    "version": 3
   },
   "file_extension": ".py",
   "mimetype": "text/x-python",
   "name": "python",
   "nbconvert_exporter": "python",
   "pygments_lexer": "ipython3",
   "version": "3.12.1"
  }
 },
 "nbformat": 4,
 "nbformat_minor": 5
}
