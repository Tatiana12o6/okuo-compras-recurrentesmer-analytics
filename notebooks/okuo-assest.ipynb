{
 "cells": [
  {
   "cell_type": "markdown",
   "id": "746dad78",
   "metadata": {},
   "source": [
    "# Importar las librerias necesarias para la ejecusión del proyecto"
   ]
  },
  {
   "cell_type": "code",
   "execution_count": 1,
   "id": "d66df909",
   "metadata": {},
   "outputs": [
    {
     "ename": "KeyboardInterrupt",
     "evalue": "",
     "output_type": "error",
     "traceback": [
      "\u001b[31m---------------------------------------------------------------------------\u001b[39m",
      "\u001b[31mKeyboardInterrupt\u001b[39m                         Traceback (most recent call last)",
      "\u001b[36mCell\u001b[39m\u001b[36m \u001b[39m\u001b[32mIn[1]\u001b[39m\u001b[32m, line 1\u001b[39m\n\u001b[32m----> \u001b[39m\u001b[32m1\u001b[39m \u001b[38;5;28;01mimport\u001b[39;00m\u001b[38;5;250m \u001b[39m\u001b[34;01mpandas\u001b[39;00m\u001b[38;5;250m \u001b[39m\u001b[38;5;28;01mas\u001b[39;00m\u001b[38;5;250m \u001b[39m\u001b[34;01mpd\u001b[39;00m\n\u001b[32m      2\u001b[39m \u001b[38;5;28;01mimport\u001b[39;00m\u001b[38;5;250m \u001b[39m\u001b[34;01mboto3\u001b[39;00m\n\u001b[32m      3\u001b[39m \u001b[38;5;28;01mfrom\u001b[39;00m\u001b[38;5;250m \u001b[39m\u001b[34;01mdotenv\u001b[39;00m\u001b[38;5;250m \u001b[39m\u001b[38;5;28;01mimport\u001b[39;00m load_dotenv\n",
      "\u001b[36mFile \u001b[39m\u001b[32m/workspaces/okuo-compras-recurrentesmer-analytics/.venv/lib/python3.12/site-packages/pandas/__init__.py:26\u001b[39m\n\u001b[32m     22\u001b[39m \u001b[38;5;28;01mdel\u001b[39;00m _hard_dependencies, _dependency, _missing_dependencies\n\u001b[32m     24\u001b[39m \u001b[38;5;28;01mtry\u001b[39;00m:\n\u001b[32m     25\u001b[39m     \u001b[38;5;66;03m# numpy compat\u001b[39;00m\n\u001b[32m---> \u001b[39m\u001b[32m26\u001b[39m     \u001b[38;5;28;01mfrom\u001b[39;00m\u001b[38;5;250m \u001b[39m\u001b[34;01mpandas\u001b[39;00m\u001b[34;01m.\u001b[39;00m\u001b[34;01mcompat\u001b[39;00m\u001b[38;5;250m \u001b[39m\u001b[38;5;28;01mimport\u001b[39;00m (\n\u001b[32m     27\u001b[39m         is_numpy_dev \u001b[38;5;28;01mas\u001b[39;00m _is_numpy_dev,  \u001b[38;5;66;03m# pyright: ignore[reportUnusedImport] # noqa: F401\u001b[39;00m\n\u001b[32m     28\u001b[39m     )\n\u001b[32m     29\u001b[39m \u001b[38;5;28;01mexcept\u001b[39;00m \u001b[38;5;167;01mImportError\u001b[39;00m \u001b[38;5;28;01mas\u001b[39;00m _err:  \u001b[38;5;66;03m# pragma: no cover\u001b[39;00m\n\u001b[32m     30\u001b[39m     _module = _err.name\n",
      "\u001b[36mFile \u001b[39m\u001b[32m/workspaces/okuo-compras-recurrentesmer-analytics/.venv/lib/python3.12/site-packages/pandas/compat/__init__.py:27\u001b[39m\n\u001b[32m     25\u001b[39m \u001b[38;5;28;01mimport\u001b[39;00m\u001b[38;5;250m \u001b[39m\u001b[34;01mpandas\u001b[39;00m\u001b[34;01m.\u001b[39;00m\u001b[34;01mcompat\u001b[39;00m\u001b[34;01m.\u001b[39;00m\u001b[34;01mcompressors\u001b[39;00m\n\u001b[32m     26\u001b[39m \u001b[38;5;28;01mfrom\u001b[39;00m\u001b[38;5;250m \u001b[39m\u001b[34;01mpandas\u001b[39;00m\u001b[34;01m.\u001b[39;00m\u001b[34;01mcompat\u001b[39;00m\u001b[34;01m.\u001b[39;00m\u001b[34;01mnumpy\u001b[39;00m\u001b[38;5;250m \u001b[39m\u001b[38;5;28;01mimport\u001b[39;00m is_numpy_dev\n\u001b[32m---> \u001b[39m\u001b[32m27\u001b[39m \u001b[38;5;28;01mfrom\u001b[39;00m\u001b[38;5;250m \u001b[39m\u001b[34;01mpandas\u001b[39;00m\u001b[34;01m.\u001b[39;00m\u001b[34;01mcompat\u001b[39;00m\u001b[34;01m.\u001b[39;00m\u001b[34;01mpyarrow\u001b[39;00m\u001b[38;5;250m \u001b[39m\u001b[38;5;28;01mimport\u001b[39;00m (\n\u001b[32m     28\u001b[39m     pa_version_under10p1,\n\u001b[32m     29\u001b[39m     pa_version_under11p0,\n\u001b[32m     30\u001b[39m     pa_version_under13p0,\n\u001b[32m     31\u001b[39m     pa_version_under14p0,\n\u001b[32m     32\u001b[39m     pa_version_under14p1,\n\u001b[32m     33\u001b[39m     pa_version_under16p0,\n\u001b[32m     34\u001b[39m     pa_version_under17p0,\n\u001b[32m     35\u001b[39m )\n\u001b[32m     37\u001b[39m \u001b[38;5;28;01mif\u001b[39;00m TYPE_CHECKING:\n\u001b[32m     38\u001b[39m     \u001b[38;5;28;01mfrom\u001b[39;00m\u001b[38;5;250m \u001b[39m\u001b[34;01mpandas\u001b[39;00m\u001b[34;01m.\u001b[39;00m\u001b[34;01m_typing\u001b[39;00m\u001b[38;5;250m \u001b[39m\u001b[38;5;28;01mimport\u001b[39;00m F\n",
      "\u001b[36mFile \u001b[39m\u001b[32m/workspaces/okuo-compras-recurrentesmer-analytics/.venv/lib/python3.12/site-packages/pandas/compat/pyarrow.py:8\u001b[39m\n\u001b[32m      5\u001b[39m \u001b[38;5;28;01mfrom\u001b[39;00m\u001b[38;5;250m \u001b[39m\u001b[34;01mpandas\u001b[39;00m\u001b[34;01m.\u001b[39;00m\u001b[34;01mutil\u001b[39;00m\u001b[34;01m.\u001b[39;00m\u001b[34;01mversion\u001b[39;00m\u001b[38;5;250m \u001b[39m\u001b[38;5;28;01mimport\u001b[39;00m Version\n\u001b[32m      7\u001b[39m \u001b[38;5;28;01mtry\u001b[39;00m:\n\u001b[32m----> \u001b[39m\u001b[32m8\u001b[39m     \u001b[38;5;28;01mimport\u001b[39;00m\u001b[38;5;250m \u001b[39m\u001b[34;01mpyarrow\u001b[39;00m\u001b[38;5;250m \u001b[39m\u001b[38;5;28;01mas\u001b[39;00m\u001b[38;5;250m \u001b[39m\u001b[34;01mpa\u001b[39;00m\n\u001b[32m     10\u001b[39m     _palv = Version(Version(pa.__version__).base_version)\n\u001b[32m     11\u001b[39m     pa_version_under10p1 = _palv < Version(\u001b[33m\"\u001b[39m\u001b[33m10.0.1\u001b[39m\u001b[33m\"\u001b[39m)\n",
      "\u001b[36mFile \u001b[39m\u001b[32m/workspaces/okuo-compras-recurrentesmer-analytics/.venv/lib/python3.12/site-packages/pyarrow/__init__.py:61\u001b[39m\n\u001b[32m     58\u001b[39m     \u001b[38;5;28;01mexcept\u001b[39;00m \u001b[38;5;167;01mImportError\u001b[39;00m:\n\u001b[32m     59\u001b[39m         __version__ = \u001b[38;5;28;01mNone\u001b[39;00m\n\u001b[32m---> \u001b[39m\u001b[32m61\u001b[39m \u001b[38;5;28;01mimport\u001b[39;00m\u001b[38;5;250m \u001b[39m\u001b[34;01mpyarrow\u001b[39;00m\u001b[34;01m.\u001b[39;00m\u001b[34;01mlib\u001b[39;00m\u001b[38;5;250m \u001b[39m\u001b[38;5;28;01mas\u001b[39;00m\u001b[38;5;250m \u001b[39m\u001b[34;01m_lib\u001b[39;00m\n\u001b[32m     62\u001b[39m \u001b[38;5;28;01mfrom\u001b[39;00m\u001b[38;5;250m \u001b[39m\u001b[34;01mpyarrow\u001b[39;00m\u001b[34;01m.\u001b[39;00m\u001b[34;01mlib\u001b[39;00m\u001b[38;5;250m \u001b[39m\u001b[38;5;28;01mimport\u001b[39;00m (BuildInfo, RuntimeInfo, set_timezone_db_path,\n\u001b[32m     63\u001b[39m                          MonthDayNano, VersionInfo, cpp_build_info,\n\u001b[32m     64\u001b[39m                          cpp_version, cpp_version_info, runtime_info,\n\u001b[32m     65\u001b[39m                          cpu_count, set_cpu_count, enable_signal_handlers,\n\u001b[32m     66\u001b[39m                          io_thread_count, set_io_thread_count)\n\u001b[32m     69\u001b[39m \u001b[38;5;28;01mdef\u001b[39;00m\u001b[38;5;250m \u001b[39m\u001b[34mshow_versions\u001b[39m():\n",
      "\u001b[36mFile \u001b[39m\u001b[32m<frozen importlib._bootstrap>:645\u001b[39m, in \u001b[36mparent\u001b[39m\u001b[34m(self)\u001b[39m\n",
      "\u001b[31mKeyboardInterrupt\u001b[39m: "
     ]
    }
   ],
   "source": [
    "import pandas as pd\n",
    "import boto3\n",
    "from dotenv import load_dotenv\n",
    "import os\n",
    "from lifelines import CoxPHFitter"
   ]
  },
  {
   "cell_type": "markdown",
   "id": "96c0e3a3",
   "metadata": {},
   "source": [
    "# Descarga los datos desde el componente de S3 en AWS"
   ]
  },
  {
   "cell_type": "code",
   "execution_count": null,
   "id": "72e8d0a0",
   "metadata": {},
   "outputs": [
    {
     "ename": "ClientError",
     "evalue": "An error occurred (403) when calling the HeadObject operation: Forbidden",
     "output_type": "error",
     "traceback": [
      "\u001b[31m---------------------------------------------------------------------------\u001b[39m",
      "\u001b[31mClientError\u001b[39m                               Traceback (most recent call last)",
      "\u001b[36mCell\u001b[39m\u001b[36m \u001b[39m\u001b[32mIn[2]\u001b[39m\u001b[32m, line 24\u001b[39m\n\u001b[32m     21\u001b[39m s3 = session.client(\u001b[33m'\u001b[39m\u001b[33ms3\u001b[39m\u001b[33m'\u001b[39m)\n\u001b[32m     23\u001b[39m \u001b[38;5;66;03m# Descargar archivo\u001b[39;00m\n\u001b[32m---> \u001b[39m\u001b[32m24\u001b[39m \u001b[43ms3\u001b[49m\u001b[43m.\u001b[49m\u001b[43mdownload_file\u001b[49m\u001b[43m(\u001b[49m\u001b[43mbucket_name\u001b[49m\u001b[43m,\u001b[49m\u001b[43m \u001b[49m\u001b[43mkey\u001b[49m\u001b[43m,\u001b[49m\u001b[43m \u001b[49m\u001b[43mlocal_path\u001b[49m\u001b[43m)\u001b[49m\n",
      "\u001b[36mFile \u001b[39m\u001b[32m/workspaces/okuo-compras-recurrentesmer-analytics/.venv/lib/python3.12/site-packages/botocore/context.py:123\u001b[39m, in \u001b[36mwith_current_context.<locals>.decorator.<locals>.wrapper\u001b[39m\u001b[34m(*args, **kwargs)\u001b[39m\n\u001b[32m    121\u001b[39m \u001b[38;5;28;01mif\u001b[39;00m hook:\n\u001b[32m    122\u001b[39m     hook()\n\u001b[32m--> \u001b[39m\u001b[32m123\u001b[39m \u001b[38;5;28;01mreturn\u001b[39;00m \u001b[43mfunc\u001b[49m\u001b[43m(\u001b[49m\u001b[43m*\u001b[49m\u001b[43margs\u001b[49m\u001b[43m,\u001b[49m\u001b[43m \u001b[49m\u001b[43m*\u001b[49m\u001b[43m*\u001b[49m\u001b[43mkwargs\u001b[49m\u001b[43m)\u001b[49m\n",
      "\u001b[36mFile \u001b[39m\u001b[32m/workspaces/okuo-compras-recurrentesmer-analytics/.venv/lib/python3.12/site-packages/boto3/s3/inject.py:223\u001b[39m, in \u001b[36mdownload_file\u001b[39m\u001b[34m(self, Bucket, Key, Filename, ExtraArgs, Callback, Config)\u001b[39m\n\u001b[32m    188\u001b[39m \u001b[38;5;250m\u001b[39m\u001b[33;03m\"\"\"Download an S3 object to a file.\u001b[39;00m\n\u001b[32m    189\u001b[39m \n\u001b[32m    190\u001b[39m \u001b[33;03mUsage::\u001b[39;00m\n\u001b[32m   (...)\u001b[39m\u001b[32m    220\u001b[39m \u001b[33;03m    transfer.\u001b[39;00m\n\u001b[32m    221\u001b[39m \u001b[33;03m\"\"\"\u001b[39;00m\n\u001b[32m    222\u001b[39m \u001b[38;5;28;01mwith\u001b[39;00m S3Transfer(\u001b[38;5;28mself\u001b[39m, Config) \u001b[38;5;28;01mas\u001b[39;00m transfer:\n\u001b[32m--> \u001b[39m\u001b[32m223\u001b[39m     \u001b[38;5;28;01mreturn\u001b[39;00m \u001b[43mtransfer\u001b[49m\u001b[43m.\u001b[49m\u001b[43mdownload_file\u001b[49m\u001b[43m(\u001b[49m\n\u001b[32m    224\u001b[39m \u001b[43m        \u001b[49m\u001b[43mbucket\u001b[49m\u001b[43m=\u001b[49m\u001b[43mBucket\u001b[49m\u001b[43m,\u001b[49m\n\u001b[32m    225\u001b[39m \u001b[43m        \u001b[49m\u001b[43mkey\u001b[49m\u001b[43m=\u001b[49m\u001b[43mKey\u001b[49m\u001b[43m,\u001b[49m\n\u001b[32m    226\u001b[39m \u001b[43m        \u001b[49m\u001b[43mfilename\u001b[49m\u001b[43m=\u001b[49m\u001b[43mFilename\u001b[49m\u001b[43m,\u001b[49m\n\u001b[32m    227\u001b[39m \u001b[43m        \u001b[49m\u001b[43mextra_args\u001b[49m\u001b[43m=\u001b[49m\u001b[43mExtraArgs\u001b[49m\u001b[43m,\u001b[49m\n\u001b[32m    228\u001b[39m \u001b[43m        \u001b[49m\u001b[43mcallback\u001b[49m\u001b[43m=\u001b[49m\u001b[43mCallback\u001b[49m\u001b[43m,\u001b[49m\n\u001b[32m    229\u001b[39m \u001b[43m    \u001b[49m\u001b[43m)\u001b[49m\n",
      "\u001b[36mFile \u001b[39m\u001b[32m/workspaces/okuo-compras-recurrentesmer-analytics/.venv/lib/python3.12/site-packages/boto3/s3/transfer.py:406\u001b[39m, in \u001b[36mS3Transfer.download_file\u001b[39m\u001b[34m(self, bucket, key, filename, extra_args, callback)\u001b[39m\n\u001b[32m    402\u001b[39m future = \u001b[38;5;28mself\u001b[39m._manager.download(\n\u001b[32m    403\u001b[39m     bucket, key, filename, extra_args, subscribers\n\u001b[32m    404\u001b[39m )\n\u001b[32m    405\u001b[39m \u001b[38;5;28;01mtry\u001b[39;00m:\n\u001b[32m--> \u001b[39m\u001b[32m406\u001b[39m     \u001b[43mfuture\u001b[49m\u001b[43m.\u001b[49m\u001b[43mresult\u001b[49m\u001b[43m(\u001b[49m\u001b[43m)\u001b[49m\n\u001b[32m    407\u001b[39m \u001b[38;5;66;03m# This is for backwards compatibility where when retries are\u001b[39;00m\n\u001b[32m    408\u001b[39m \u001b[38;5;66;03m# exceeded we need to throw the same error from boto3 instead of\u001b[39;00m\n\u001b[32m    409\u001b[39m \u001b[38;5;66;03m# s3transfer's built in RetriesExceededError as current users are\u001b[39;00m\n\u001b[32m    410\u001b[39m \u001b[38;5;66;03m# catching the boto3 one instead of the s3transfer exception to do\u001b[39;00m\n\u001b[32m    411\u001b[39m \u001b[38;5;66;03m# their own retries.\u001b[39;00m\n\u001b[32m    412\u001b[39m \u001b[38;5;28;01mexcept\u001b[39;00m S3TransferRetriesExceededError \u001b[38;5;28;01mas\u001b[39;00m e:\n",
      "\u001b[36mFile \u001b[39m\u001b[32m/workspaces/okuo-compras-recurrentesmer-analytics/.venv/lib/python3.12/site-packages/s3transfer/futures.py:111\u001b[39m, in \u001b[36mTransferFuture.result\u001b[39m\u001b[34m(self)\u001b[39m\n\u001b[32m    106\u001b[39m \u001b[38;5;28;01mdef\u001b[39;00m\u001b[38;5;250m \u001b[39m\u001b[34mresult\u001b[39m(\u001b[38;5;28mself\u001b[39m):\n\u001b[32m    107\u001b[39m     \u001b[38;5;28;01mtry\u001b[39;00m:\n\u001b[32m    108\u001b[39m         \u001b[38;5;66;03m# Usually the result() method blocks until the transfer is done,\u001b[39;00m\n\u001b[32m    109\u001b[39m         \u001b[38;5;66;03m# however if a KeyboardInterrupt is raised we want want to exit\u001b[39;00m\n\u001b[32m    110\u001b[39m         \u001b[38;5;66;03m# out of this and propagate the exception.\u001b[39;00m\n\u001b[32m--> \u001b[39m\u001b[32m111\u001b[39m         \u001b[38;5;28;01mreturn\u001b[39;00m \u001b[38;5;28;43mself\u001b[39;49m\u001b[43m.\u001b[49m\u001b[43m_coordinator\u001b[49m\u001b[43m.\u001b[49m\u001b[43mresult\u001b[49m\u001b[43m(\u001b[49m\u001b[43m)\u001b[49m\n\u001b[32m    112\u001b[39m     \u001b[38;5;28;01mexcept\u001b[39;00m \u001b[38;5;167;01mKeyboardInterrupt\u001b[39;00m \u001b[38;5;28;01mas\u001b[39;00m e:\n\u001b[32m    113\u001b[39m         \u001b[38;5;28mself\u001b[39m.cancel()\n",
      "\u001b[36mFile \u001b[39m\u001b[32m/workspaces/okuo-compras-recurrentesmer-analytics/.venv/lib/python3.12/site-packages/s3transfer/futures.py:287\u001b[39m, in \u001b[36mTransferCoordinator.result\u001b[39m\u001b[34m(self)\u001b[39m\n\u001b[32m    284\u001b[39m \u001b[38;5;66;03m# Once done waiting, raise an exception if present or return the\u001b[39;00m\n\u001b[32m    285\u001b[39m \u001b[38;5;66;03m# final result.\u001b[39;00m\n\u001b[32m    286\u001b[39m \u001b[38;5;28;01mif\u001b[39;00m \u001b[38;5;28mself\u001b[39m._exception:\n\u001b[32m--> \u001b[39m\u001b[32m287\u001b[39m     \u001b[38;5;28;01mraise\u001b[39;00m \u001b[38;5;28mself\u001b[39m._exception\n\u001b[32m    288\u001b[39m \u001b[38;5;28;01mreturn\u001b[39;00m \u001b[38;5;28mself\u001b[39m._result\n",
      "\u001b[36mFile \u001b[39m\u001b[32m/workspaces/okuo-compras-recurrentesmer-analytics/.venv/lib/python3.12/site-packages/s3transfer/tasks.py:272\u001b[39m, in \u001b[36mSubmissionTask._main\u001b[39m\u001b[34m(self, transfer_future, **kwargs)\u001b[39m\n\u001b[32m    268\u001b[39m     \u001b[38;5;28mself\u001b[39m._transfer_coordinator.set_status_to_running()\n\u001b[32m    270\u001b[39m     \u001b[38;5;66;03m# Call the submit method to start submitting tasks to execute the\u001b[39;00m\n\u001b[32m    271\u001b[39m     \u001b[38;5;66;03m# transfer.\u001b[39;00m\n\u001b[32m--> \u001b[39m\u001b[32m272\u001b[39m     \u001b[38;5;28;43mself\u001b[39;49m\u001b[43m.\u001b[49m\u001b[43m_submit\u001b[49m\u001b[43m(\u001b[49m\u001b[43mtransfer_future\u001b[49m\u001b[43m=\u001b[49m\u001b[43mtransfer_future\u001b[49m\u001b[43m,\u001b[49m\u001b[43m \u001b[49m\u001b[43m*\u001b[49m\u001b[43m*\u001b[49m\u001b[43mkwargs\u001b[49m\u001b[43m)\u001b[49m\n\u001b[32m    273\u001b[39m \u001b[38;5;28;01mexcept\u001b[39;00m \u001b[38;5;167;01mBaseException\u001b[39;00m \u001b[38;5;28;01mas\u001b[39;00m e:\n\u001b[32m    274\u001b[39m     \u001b[38;5;66;03m# If there was an exception raised during the submission of task\u001b[39;00m\n\u001b[32m    275\u001b[39m     \u001b[38;5;66;03m# there is a chance that the final task that signals if a transfer\u001b[39;00m\n\u001b[32m   (...)\u001b[39m\u001b[32m    284\u001b[39m \n\u001b[32m    285\u001b[39m     \u001b[38;5;66;03m# Set the exception, that caused the process to fail.\u001b[39;00m\n\u001b[32m    286\u001b[39m     \u001b[38;5;28mself\u001b[39m._log_and_set_exception(e)\n",
      "\u001b[36mFile \u001b[39m\u001b[32m/workspaces/okuo-compras-recurrentesmer-analytics/.venv/lib/python3.12/site-packages/s3transfer/download.py:355\u001b[39m, in \u001b[36mDownloadSubmissionTask._submit\u001b[39m\u001b[34m(self, client, config, osutil, request_executor, io_executor, transfer_future, bandwidth_limiter)\u001b[39m\n\u001b[32m    325\u001b[39m \u001b[38;5;250m\u001b[39m\u001b[33;03m\"\"\"\u001b[39;00m\n\u001b[32m    326\u001b[39m \u001b[33;03m:param client: The client associated with the transfer manager\u001b[39;00m\n\u001b[32m    327\u001b[39m \n\u001b[32m   (...)\u001b[39m\u001b[32m    349\u001b[39m \u001b[33;03m    downloading streams\u001b[39;00m\n\u001b[32m    350\u001b[39m \u001b[33;03m\"\"\"\u001b[39;00m\n\u001b[32m    351\u001b[39m \u001b[38;5;28;01mif\u001b[39;00m (\n\u001b[32m    352\u001b[39m     transfer_future.meta.size \u001b[38;5;129;01mis\u001b[39;00m \u001b[38;5;28;01mNone\u001b[39;00m\n\u001b[32m    353\u001b[39m     \u001b[38;5;129;01mor\u001b[39;00m transfer_future.meta.etag \u001b[38;5;129;01mis\u001b[39;00m \u001b[38;5;28;01mNone\u001b[39;00m\n\u001b[32m    354\u001b[39m ):\n\u001b[32m--> \u001b[39m\u001b[32m355\u001b[39m     response = \u001b[43mclient\u001b[49m\u001b[43m.\u001b[49m\u001b[43mhead_object\u001b[49m\u001b[43m(\u001b[49m\n\u001b[32m    356\u001b[39m \u001b[43m        \u001b[49m\u001b[43mBucket\u001b[49m\u001b[43m=\u001b[49m\u001b[43mtransfer_future\u001b[49m\u001b[43m.\u001b[49m\u001b[43mmeta\u001b[49m\u001b[43m.\u001b[49m\u001b[43mcall_args\u001b[49m\u001b[43m.\u001b[49m\u001b[43mbucket\u001b[49m\u001b[43m,\u001b[49m\n\u001b[32m    357\u001b[39m \u001b[43m        \u001b[49m\u001b[43mKey\u001b[49m\u001b[43m=\u001b[49m\u001b[43mtransfer_future\u001b[49m\u001b[43m.\u001b[49m\u001b[43mmeta\u001b[49m\u001b[43m.\u001b[49m\u001b[43mcall_args\u001b[49m\u001b[43m.\u001b[49m\u001b[43mkey\u001b[49m\u001b[43m,\u001b[49m\n\u001b[32m    358\u001b[39m \u001b[43m        \u001b[49m\u001b[43m*\u001b[49m\u001b[43m*\u001b[49m\u001b[43mtransfer_future\u001b[49m\u001b[43m.\u001b[49m\u001b[43mmeta\u001b[49m\u001b[43m.\u001b[49m\u001b[43mcall_args\u001b[49m\u001b[43m.\u001b[49m\u001b[43mextra_args\u001b[49m\u001b[43m,\u001b[49m\n\u001b[32m    359\u001b[39m \u001b[43m    \u001b[49m\u001b[43m)\u001b[49m\n\u001b[32m    360\u001b[39m     \u001b[38;5;66;03m# If a size was not provided figure out the size for the\u001b[39;00m\n\u001b[32m    361\u001b[39m     \u001b[38;5;66;03m# user.\u001b[39;00m\n\u001b[32m    362\u001b[39m     transfer_future.meta.provide_transfer_size(\n\u001b[32m    363\u001b[39m         response[\u001b[33m'\u001b[39m\u001b[33mContentLength\u001b[39m\u001b[33m'\u001b[39m]\n\u001b[32m    364\u001b[39m     )\n",
      "\u001b[36mFile \u001b[39m\u001b[32m/workspaces/okuo-compras-recurrentesmer-analytics/.venv/lib/python3.12/site-packages/botocore/client.py:595\u001b[39m, in \u001b[36mClientCreator._create_api_method.<locals>._api_call\u001b[39m\u001b[34m(self, *args, **kwargs)\u001b[39m\n\u001b[32m    591\u001b[39m     \u001b[38;5;28;01mraise\u001b[39;00m \u001b[38;5;167;01mTypeError\u001b[39;00m(\n\u001b[32m    592\u001b[39m         \u001b[33mf\u001b[39m\u001b[33m\"\u001b[39m\u001b[38;5;132;01m{\u001b[39;00mpy_operation_name\u001b[38;5;132;01m}\u001b[39;00m\u001b[33m() only accepts keyword arguments.\u001b[39m\u001b[33m\"\u001b[39m\n\u001b[32m    593\u001b[39m     )\n\u001b[32m    594\u001b[39m \u001b[38;5;66;03m# The \"self\" in this scope is referring to the BaseClient.\u001b[39;00m\n\u001b[32m--> \u001b[39m\u001b[32m595\u001b[39m \u001b[38;5;28;01mreturn\u001b[39;00m \u001b[38;5;28;43mself\u001b[39;49m\u001b[43m.\u001b[49m\u001b[43m_make_api_call\u001b[49m\u001b[43m(\u001b[49m\u001b[43moperation_name\u001b[49m\u001b[43m,\u001b[49m\u001b[43m \u001b[49m\u001b[43mkwargs\u001b[49m\u001b[43m)\u001b[49m\n",
      "\u001b[36mFile \u001b[39m\u001b[32m/workspaces/okuo-compras-recurrentesmer-analytics/.venv/lib/python3.12/site-packages/botocore/context.py:123\u001b[39m, in \u001b[36mwith_current_context.<locals>.decorator.<locals>.wrapper\u001b[39m\u001b[34m(*args, **kwargs)\u001b[39m\n\u001b[32m    121\u001b[39m \u001b[38;5;28;01mif\u001b[39;00m hook:\n\u001b[32m    122\u001b[39m     hook()\n\u001b[32m--> \u001b[39m\u001b[32m123\u001b[39m \u001b[38;5;28;01mreturn\u001b[39;00m \u001b[43mfunc\u001b[49m\u001b[43m(\u001b[49m\u001b[43m*\u001b[49m\u001b[43margs\u001b[49m\u001b[43m,\u001b[49m\u001b[43m \u001b[49m\u001b[43m*\u001b[49m\u001b[43m*\u001b[49m\u001b[43mkwargs\u001b[49m\u001b[43m)\u001b[49m\n",
      "\u001b[36mFile \u001b[39m\u001b[32m/workspaces/okuo-compras-recurrentesmer-analytics/.venv/lib/python3.12/site-packages/botocore/client.py:1058\u001b[39m, in \u001b[36mBaseClient._make_api_call\u001b[39m\u001b[34m(self, operation_name, api_params)\u001b[39m\n\u001b[32m   1054\u001b[39m     error_code = error_info.get(\u001b[33m\"\u001b[39m\u001b[33mQueryErrorCode\u001b[39m\u001b[33m\"\u001b[39m) \u001b[38;5;129;01mor\u001b[39;00m error_info.get(\n\u001b[32m   1055\u001b[39m         \u001b[33m\"\u001b[39m\u001b[33mCode\u001b[39m\u001b[33m\"\u001b[39m\n\u001b[32m   1056\u001b[39m     )\n\u001b[32m   1057\u001b[39m     error_class = \u001b[38;5;28mself\u001b[39m.exceptions.from_code(error_code)\n\u001b[32m-> \u001b[39m\u001b[32m1058\u001b[39m     \u001b[38;5;28;01mraise\u001b[39;00m error_class(parsed_response, operation_name)\n\u001b[32m   1059\u001b[39m \u001b[38;5;28;01melse\u001b[39;00m:\n\u001b[32m   1060\u001b[39m     \u001b[38;5;28;01mreturn\u001b[39;00m parsed_response\n",
      "\u001b[31mClientError\u001b[39m: An error occurred (403) when calling the HeadObject operation: Forbidden"
     ]
    }
   ],
   "source": [
    "\n",
    "load_dotenv('../.env')\n",
    "ACCESS_KEY = os.getenv('ACCESS_KEY')\n",
    "SECRET_KEY = os.getenv('SECRET_KEY')\n",
    "\n",
    "# Parámetros del bucket\n",
    "bucket_name = 'assessment-86fc5eb8'\n",
    "key = 'raw-data/data.csv'\n",
    "local_path = '../data/data.csv'\n",
    "\n",
    "# Crear carpeta\n",
    "os.makedirs(os.path.dirname(local_path), exist_ok=True)\n",
    "\n",
    "\n",
    "# Sesión con credenciales explícitas\n",
    "session = boto3.Session(\n",
    "    aws_access_key_id=ACCESS_KEY,\n",
    "    aws_secret_access_key=SECRET_KEY,\n",
    "    region_name='us-east-1' \n",
    ")\n",
    "\n",
    "s3 = session.client('s3')\n",
    "\n",
    "# Descargar archivo\n",
    "s3.download_file(bucket_name, key, local_path)"
   ]
  },
  {
   "cell_type": "markdown",
   "id": "01a5f8a6",
   "metadata": {},
   "source": [
    "# Importar los datos del proyecto"
   ]
  },
  {
   "cell_type": "code",
   "execution_count": null,
   "id": "5b77a6e5",
   "metadata": {},
   "outputs": [
    {
     "data": {
      "text/html": [
       "<div>\n",
       "<style scoped>\n",
       "    .dataframe tbody tr th:only-of-type {\n",
       "        vertical-align: middle;\n",
       "    }\n",
       "\n",
       "    .dataframe tbody tr th {\n",
       "        vertical-align: top;\n",
       "    }\n",
       "\n",
       "    .dataframe thead th {\n",
       "        text-align: right;\n",
       "    }\n",
       "</style>\n",
       "<table border=\"1\" class=\"dataframe\">\n",
       "  <thead>\n",
       "    <tr style=\"text-align: right;\">\n",
       "      <th></th>\n",
       "      <th>fecha_compra</th>\n",
       "      <th>usuario</th>\n",
       "      <th>producto</th>\n",
       "      <th>cantidad</th>\n",
       "      <th>precio</th>\n",
       "    </tr>\n",
       "  </thead>\n",
       "  <tbody>\n",
       "    <tr>\n",
       "      <th>0</th>\n",
       "      <td>2014-10-01</td>\n",
       "      <td>6cba0c</td>\n",
       "      <td>PROD-efd583</td>\n",
       "      <td>2</td>\n",
       "      <td>164.7</td>\n",
       "    </tr>\n",
       "    <tr>\n",
       "      <th>1</th>\n",
       "      <td>2014-10-01</td>\n",
       "      <td>6cba0c</td>\n",
       "      <td>PROD-a726f5</td>\n",
       "      <td>2</td>\n",
       "      <td>164.7</td>\n",
       "    </tr>\n",
       "    <tr>\n",
       "      <th>2</th>\n",
       "      <td>2014-10-01</td>\n",
       "      <td>6cba0c</td>\n",
       "      <td>PROD-3e1cd9</td>\n",
       "      <td>2</td>\n",
       "      <td>164.7</td>\n",
       "    </tr>\n",
       "    <tr>\n",
       "      <th>3</th>\n",
       "      <td>2014-10-01</td>\n",
       "      <td>6cba0c</td>\n",
       "      <td>PROD-d012c0</td>\n",
       "      <td>2</td>\n",
       "      <td>164.7</td>\n",
       "    </tr>\n",
       "    <tr>\n",
       "      <th>4</th>\n",
       "      <td>2014-10-01</td>\n",
       "      <td>6cba0c</td>\n",
       "      <td>PROD-48924a</td>\n",
       "      <td>3</td>\n",
       "      <td>164.7</td>\n",
       "    </tr>\n",
       "    <tr>\n",
       "      <th>5</th>\n",
       "      <td>2014-10-01</td>\n",
       "      <td>6cba0c</td>\n",
       "      <td>PROD-4c2559</td>\n",
       "      <td>2</td>\n",
       "      <td>164.7</td>\n",
       "    </tr>\n",
       "    <tr>\n",
       "      <th>6</th>\n",
       "      <td>2014-10-01</td>\n",
       "      <td>6cba0c</td>\n",
       "      <td>PROD-10e913</td>\n",
       "      <td>2</td>\n",
       "      <td>164.7</td>\n",
       "    </tr>\n",
       "    <tr>\n",
       "      <th>7</th>\n",
       "      <td>2014-10-01</td>\n",
       "      <td>6cba0c</td>\n",
       "      <td>PROD-3065f9</td>\n",
       "      <td>2</td>\n",
       "      <td>164.7</td>\n",
       "    </tr>\n",
       "    <tr>\n",
       "      <th>8</th>\n",
       "      <td>2014-10-01</td>\n",
       "      <td>6cba0c</td>\n",
       "      <td>PROD-f47365</td>\n",
       "      <td>2</td>\n",
       "      <td>164.7</td>\n",
       "    </tr>\n",
       "    <tr>\n",
       "      <th>9</th>\n",
       "      <td>2014-10-01</td>\n",
       "      <td>6cba0c</td>\n",
       "      <td>PROD-e658d1</td>\n",
       "      <td>1</td>\n",
       "      <td>164.7</td>\n",
       "    </tr>\n",
       "  </tbody>\n",
       "</table>\n",
       "</div>"
      ],
      "text/plain": [
       "  fecha_compra usuario     producto  cantidad  precio\n",
       "0   2014-10-01  6cba0c  PROD-efd583         2   164.7\n",
       "1   2014-10-01  6cba0c  PROD-a726f5         2   164.7\n",
       "2   2014-10-01  6cba0c  PROD-3e1cd9         2   164.7\n",
       "3   2014-10-01  6cba0c  PROD-d012c0         2   164.7\n",
       "4   2014-10-01  6cba0c  PROD-48924a         3   164.7\n",
       "5   2014-10-01  6cba0c  PROD-4c2559         2   164.7\n",
       "6   2014-10-01  6cba0c  PROD-10e913         2   164.7\n",
       "7   2014-10-01  6cba0c  PROD-3065f9         2   164.7\n",
       "8   2014-10-01  6cba0c  PROD-f47365         2   164.7\n",
       "9   2014-10-01  6cba0c  PROD-e658d1         1   164.7"
      ]
     },
     "execution_count": 3,
     "metadata": {},
     "output_type": "execute_result"
    }
   ],
   "source": [
    "local_path = '../data/data.csv'\n",
    "df = pd.read_csv(local_path)\n",
    "df.head(10)"
   ]
  },
  {
   "cell_type": "code",
   "execution_count": null,
   "id": "2da53dad",
   "metadata": {},
   "outputs": [
    {
     "name": "stdout",
     "output_type": "stream",
     "text": [
      "Número de usuarios únicos : 197392 y número de productos únicos: 16854\n"
     ]
    }
   ],
   "source": [
    "num_usuarios=len(df['usuario'].unique())\n",
    "num_productos=len(df['producto'].unique())\n",
    "print(f\"Número de usuarios únicos : {num_usuarios} y número de productos únicos: {num_productos}\")"
   ]
  },
  {
   "cell_type": "markdown",
   "id": "56147fd9",
   "metadata": {},
   "source": [
    "# Paso 1: Identificar los clientes recurrentes del supermercado"
   ]
  },
  {
   "cell_type": "markdown",
   "id": "8e3abcab",
   "metadata": {},
   "source": [
    "#### Los clientes recurrentes deben cumplir esta condicion. Un cliente es recurrente si:\n",
    "\n",
    "Hace más de una compra.\n",
    "(Es decir, el cliente ha comprado al menos dos veces.)\n",
    "\n",
    "Cada compra tiene más de 10 productos.\n",
    "(En cada compra que cuenta, la cantidad total de productos debe ser mayor a 10.)\n",
    "\n",
    "Las compras ocurren dentro de períodos de 30 días.\n",
    "(Entre una compra y la siguiente, pasan 30 días o menos.)"
   ]
  },
  {
   "cell_type": "code",
   "execution_count": null,
   "id": "e201ccd0",
   "metadata": {},
   "outputs": [
    {
     "data": {
      "text/html": [
       "<div>\n",
       "<style scoped>\n",
       "    .dataframe tbody tr th:only-of-type {\n",
       "        vertical-align: middle;\n",
       "    }\n",
       "\n",
       "    .dataframe tbody tr th {\n",
       "        vertical-align: top;\n",
       "    }\n",
       "\n",
       "    .dataframe thead th {\n",
       "        text-align: right;\n",
       "    }\n",
       "</style>\n",
       "<table border=\"1\" class=\"dataframe\">\n",
       "  <thead>\n",
       "    <tr style=\"text-align: right;\">\n",
       "      <th></th>\n",
       "      <th>usuario</th>\n",
       "      <th>fecha_compra</th>\n",
       "      <th>productos_comprados</th>\n",
       "    </tr>\n",
       "  </thead>\n",
       "  <tbody>\n",
       "    <tr>\n",
       "      <th>0</th>\n",
       "      <td>000019</td>\n",
       "      <td>2014-10-26</td>\n",
       "      <td>42</td>\n",
       "    </tr>\n",
       "    <tr>\n",
       "      <th>1</th>\n",
       "      <td>000019</td>\n",
       "      <td>2014-12-24</td>\n",
       "      <td>25</td>\n",
       "    </tr>\n",
       "    <tr>\n",
       "      <th>3</th>\n",
       "      <td>00009c</td>\n",
       "      <td>2014-12-16</td>\n",
       "      <td>47</td>\n",
       "    </tr>\n",
       "    <tr>\n",
       "      <th>8</th>\n",
       "      <td>000166</td>\n",
       "      <td>2014-11-08</td>\n",
       "      <td>12</td>\n",
       "    </tr>\n",
       "    <tr>\n",
       "      <th>9</th>\n",
       "      <td>000166</td>\n",
       "      <td>2014-11-25</td>\n",
       "      <td>37</td>\n",
       "    </tr>\n",
       "    <tr>\n",
       "      <th>11</th>\n",
       "      <td>000342</td>\n",
       "      <td>2014-10-31</td>\n",
       "      <td>14</td>\n",
       "    </tr>\n",
       "    <tr>\n",
       "      <th>12</th>\n",
       "      <td>000342</td>\n",
       "      <td>2014-12-06</td>\n",
       "      <td>16</td>\n",
       "    </tr>\n",
       "    <tr>\n",
       "      <th>15</th>\n",
       "      <td>000481</td>\n",
       "      <td>2014-11-15</td>\n",
       "      <td>113</td>\n",
       "    </tr>\n",
       "    <tr>\n",
       "      <th>16</th>\n",
       "      <td>00065b</td>\n",
       "      <td>2014-10-29</td>\n",
       "      <td>157</td>\n",
       "    </tr>\n",
       "    <tr>\n",
       "      <th>18</th>\n",
       "      <td>0006ec</td>\n",
       "      <td>2014-12-28</td>\n",
       "      <td>82</td>\n",
       "    </tr>\n",
       "  </tbody>\n",
       "</table>\n",
       "</div>"
      ],
      "text/plain": [
       "   usuario fecha_compra  productos_comprados\n",
       "0   000019   2014-10-26                   42\n",
       "1   000019   2014-12-24                   25\n",
       "3   00009c   2014-12-16                   47\n",
       "8   000166   2014-11-08                   12\n",
       "9   000166   2014-11-25                   37\n",
       "11  000342   2014-10-31                   14\n",
       "12  000342   2014-12-06                   16\n",
       "15  000481   2014-11-15                  113\n",
       "16  00065b   2014-10-29                  157\n",
       "18  0006ec   2014-12-28                   82"
      ]
     },
     "execution_count": 5,
     "metadata": {},
     "output_type": "execute_result"
    }
   ],
   "source": [
    "# Convertir fecha a datetime\n",
    "df['fecha_compra'] = pd.to_datetime(df['fecha_compra'])\n",
    "\n",
    "# Agrupar por usuario y fecha, sumar productos comprados\n",
    "compras = df.groupby(['usuario', 'fecha_compra']).agg(\n",
    "    productos_comprados=('cantidad', 'sum')\n",
    ").reset_index()\n",
    "\n",
    "# Filtrar compras con más de 10 productos\n",
    "compras_validas = compras[compras['productos_comprados'] > 10].copy()\n",
    "\n",
    "# Ordenar por usuario y fecha\n",
    "compras_validas = compras_validas.sort_values(['usuario', 'fecha_compra'])\n",
    "compras_validas.head(10)"
   ]
  },
  {
   "cell_type": "markdown",
   "id": "c45b5261",
   "metadata": {},
   "source": [
    "Identificar los clientes que hacen más de una compra"
   ]
  },
  {
   "cell_type": "code",
   "execution_count": null,
   "id": "c100ab7e",
   "metadata": {},
   "outputs": [
    {
     "name": "stdout",
     "output_type": "stream",
     "text": [
      "  usuario fecha_compra  productos_comprados  num_compras_validas\n",
      "0  000019   2014-10-26                   42                    2\n",
      "1  000019   2014-12-24                   25                    2\n",
      "2  000166   2014-11-08                   12                    2\n",
      "3  000166   2014-11-25                   37                    2\n",
      "4  000342   2014-10-31                   14                    2\n"
     ]
    }
   ],
   "source": [
    "# Contar número de compras válidas por usuario\n",
    "conteo_compras = compras_validas.groupby('usuario').size().reset_index(name='num_compras_validas')\n",
    "\n",
    "# Filtrar solo usuarios con más de una compra válida\n",
    "usuarios_mas_de_una_compra = conteo_compras[conteo_compras['num_compras_validas'] > 1]\n",
    "\n",
    "# Unir esa información a la tabla de compras válidas\n",
    "compras_recurrentes = compras_validas.merge(usuarios_mas_de_una_compra, on='usuario')\n",
    "\n",
    "# Resultado\n",
    "print(compras_recurrentes.head())"
   ]
  },
  {
   "cell_type": "markdown",
   "id": "5e14656b",
   "metadata": {},
   "source": [
    "Por información ¿Cuántos de estos clientes me realizan más de dos compras? "
   ]
  },
  {
   "cell_type": "code",
   "execution_count": null,
   "id": "86699d45",
   "metadata": {},
   "outputs": [
    {
     "name": "stdout",
     "output_type": "stream",
     "text": [
      "Clientes con más de 2 compras válidas: 52814\n"
     ]
    }
   ],
   "source": [
    "# Contar número de compras válidas por usuario\n",
    "conteo_compras = compras_validas.groupby('usuario').size().reset_index(name='num_compras_validas')\n",
    "\n",
    "# Filtrar usuarios con más de 2 compras válidas\n",
    "usuarios_mas_de_dos_compras = conteo_compras[conteo_compras['num_compras_validas'] > 2]\n",
    "\n",
    "# Mostrar cuántos son\n",
    "print(f\"Clientes con más de 2 compras válidas: {len(usuarios_mas_de_dos_compras)}\")"
   ]
  },
  {
   "cell_type": "markdown",
   "id": "6fdecf74",
   "metadata": {},
   "source": [
    "Identificar de los clientes cuáles compran en un intervalo de 30 dias "
   ]
  },
  {
   "cell_type": "code",
   "execution_count": null,
   "id": "0a5c6309",
   "metadata": {},
   "outputs": [
    {
     "name": "stdout",
     "output_type": "stream",
     "text": [
      "Clientes recurrentes (compras en ≤ 30 días): 65448\n",
      "   usuario fecha_compra  productos_comprados  dif_dias\n",
      "8   000166   2014-11-08                   12       NaN\n",
      "9   000166   2014-11-25                   37      17.0\n",
      "40  000998   2014-12-25                   31       NaN\n",
      "41  000998   2014-12-28                   56       3.0\n",
      "44  000a09   2014-10-07                   42       NaN\n"
     ]
    }
   ],
   "source": [
    "# 1. Calcular dif_dias\n",
    "compras_validas['dif_dias'] = compras_validas.groupby('usuario')['fecha_compra'].diff().dt.days\n",
    "\n",
    "# 2. Filtrar usuarios con más de una compra\n",
    "multi_compra = compras_validas.groupby('usuario').filter(lambda g: len(g) > 1)\n",
    "\n",
    "# 3. Filtrar compras donde alguna diferencia de días es <= 30\n",
    "mask = (\n",
    "    multi_compra\n",
    "    .groupby('usuario')['dif_dias']\n",
    "    .transform(lambda s: s.dropna().le(30).any())\n",
    ")\n",
    "compras_recurrentes_30d = multi_compra[mask].copy()\n",
    "\n",
    "# 4. Usuarios únicos resultantes\n",
    "usuarios_recurrentes = compras_recurrentes_30d['usuario'].unique()\n",
    "\n",
    "print(f\"Clientes recurrentes (compras en ≤ 30 días): {len(usuarios_recurrentes)}\")\n",
    "print(compras_recurrentes_30d.head())"
   ]
  },
  {
   "cell_type": "markdown",
   "id": "099bfbb0",
   "metadata": {},
   "source": [
    "Revisar las compras de un del cliente \"000166\""
   ]
  },
  {
   "cell_type": "code",
   "execution_count": null,
   "id": "d636aacd",
   "metadata": {},
   "outputs": [
    {
     "name": "stdout",
     "output_type": "stream",
     "text": [
      "  usuario fecha_compra  productos_comprados  dif_dias\n",
      "8  000166   2014-11-08                   12       NaN\n",
      "9  000166   2014-11-25                   37      17.0\n"
     ]
    }
   ],
   "source": [
    "cliente = '000166'\n",
    "info_000166 = compras_recurrentes_30d[\n",
    "    compras_recurrentes_30d['usuario'] == cliente\n",
    "]\n",
    "\n",
    "# Filtrar columnas clave del usuario que estoy revisando\n",
    "print(info_000166[['usuario', 'fecha_compra', 'productos_comprados', 'dif_dias']])"
   ]
  },
  {
   "cell_type": "markdown",
   "id": "4461dd96",
   "metadata": {},
   "source": [
    "# Objetivo: Construir una tabla RFM (Recency–Frequency–Monetary): \n",
    "\n",
    "#Técnica de segmentación de clientes que se utiliza para identificar a los clientes más valiosos del supermercado. \n",
    "Recency (R): ¿Qué tan recientemente compró el cliente?\n",
    "Frequency (F): ¿Con qué frecuencia compra el cliente?\n",
    "Monetary (M): ¿Cuánto gasta el cliente en total o en promedio?"
   ]
  },
  {
   "cell_type": "code",
   "execution_count": null,
   "id": "f39c274f",
   "metadata": {},
   "outputs": [
    {
     "name": "stdout",
     "output_type": "stream",
     "text": [
      "   usuario fecha_compra  frequency_dynamic  monetary_dynamic  recency_dynamic\n",
      "8   000166   2014-11-08                  1                12              0.0\n",
      "9   000166   2014-11-25                  2                49             17.0\n",
      "40  000998   2014-12-25                  1                31              0.0\n",
      "41  000998   2014-12-28                  2                87              3.0\n",
      "44  000a09   2014-10-07                  1                42              0.0\n",
      "45  000a09   2014-11-27                  2                97             51.0\n",
      "46  000a09   2014-12-04                  3               149              7.0\n",
      "52  000b65   2014-10-08                  1                35              0.0\n",
      "53  000b65   2014-10-16                  2                48              8.0\n",
      "54  000b65   2014-10-25                  3                76              9.0\n"
     ]
    }
   ],
   "source": [
    "compras_recurrentes_30d = compras_recurrentes_30d.sort_values(['usuario', 'fecha_compra'])\n",
    "\n",
    "# 2. Se calcula la frecuencia y montos acumulados por usuario hasta cada fecha_compra\n",
    "def calc_cumulative_counts(df):\n",
    "    return df.groupby('usuario').cumcount() + 1  # frequency acumulado\n",
    "\n",
    "def calc_cumulative_monetary(df):\n",
    "    return df.groupby('usuario')['productos_comprados'].cumsum()  # monetary acumulado\n",
    "\n",
    "compras_recurrentes_30d['frequency_dynamic'] = calc_cumulative_counts(compras_recurrentes_30d)\n",
    "compras_recurrentes_30d['monetary_dynamic'] = calc_cumulative_monetary(compras_recurrentes_30d)\n",
    "\n",
    "# 3. Para cada fila, recency es la diferencia en días entre la fecha_compra de esa fila y la última compra previa\n",
    "# Calculamos la última fecha de compra anterior a la actual (shift por usuario)\n",
    "compras_recurrentes_30d['last_purchase_prior'] = (\n",
    "    compras_recurrentes_30d\n",
    "    .groupby('usuario')['fecha_compra']\n",
    "    .shift(1)\n",
    ")\n",
    "\n",
    "# Recency dinámico es la diferencia entre la fecha de la fila y la última compra previa\n",
    "compras_recurrentes_30d['recency_dynamic'] = (\n",
    "    (compras_recurrentes_30d['fecha_compra'] - compras_recurrentes_30d['last_purchase_prior'])\n",
    "    .dt.days\n",
    ")\n",
    "\n",
    "# Nota: La primera compra por usuario tendrá recency_dynamic = NaN (porque no hay compra anterior)\n",
    "\n",
    "compras_recurrentes_30d['recency_dynamic'] = compras_recurrentes_30d['recency_dynamic'].fillna(0)\n",
    "\n",
    "# Historial acumulado \n",
    "print(compras_recurrentes_30d[['usuario', 'fecha_compra', 'frequency_dynamic', 'monetary_dynamic', 'recency_dynamic']].head(10))\n"
   ]
  },
  {
   "cell_type": "markdown",
   "id": "d3d94c09",
   "metadata": {},
   "source": [
    "Anexar a la base de datos la variable mes"
   ]
  },
  {
   "cell_type": "code",
   "execution_count": null,
   "id": "70c04713",
   "metadata": {},
   "outputs": [
    {
     "name": "stdout",
     "output_type": "stream",
     "text": [
      "   usuario fecha_compra  mes  frequency_dynamic  monetary_dynamic  \\\n",
      "8   000166   2014-11-08   11                  1                12   \n",
      "9   000166   2014-11-25   11                  2                49   \n",
      "40  000998   2014-12-25   12                  1                31   \n",
      "41  000998   2014-12-28   12                  2                87   \n",
      "44  000a09   2014-10-07   10                  1                42   \n",
      "45  000a09   2014-11-27   11                  2                97   \n",
      "46  000a09   2014-12-04   12                  3               149   \n",
      "52  000b65   2014-10-08   10                  1                35   \n",
      "53  000b65   2014-10-16   10                  2                48   \n",
      "54  000b65   2014-10-25   10                  3                76   \n",
      "\n",
      "    recency_dynamic  \n",
      "8               0.0  \n",
      "9              17.0  \n",
      "40              0.0  \n",
      "41              3.0  \n",
      "44              0.0  \n",
      "45             51.0  \n",
      "46              7.0  \n",
      "52              0.0  \n",
      "53              8.0  \n",
      "54              9.0  \n"
     ]
    }
   ],
   "source": [
    "# Convertir fecha_compra a datetime\n",
    "compras_recurrentes_30d['fecha_compra'] = pd.to_datetime(compras_recurrentes_30d['fecha_compra'])\n",
    "\n",
    "# Crear columna 'mes' \n",
    "compras_recurrentes_30d['mes'] = compras_recurrentes_30d['fecha_compra'].dt.month\n",
    "\n",
    "# Verificar resultado\n",
    "print(compras_recurrentes_30d[['usuario', 'fecha_compra', 'mes', 'frequency_dynamic', 'monetary_dynamic', 'recency_dynamic']].head(10))\n",
    "\n",
    "# Renombrar la base de datos \n",
    "base_enriquecida = compras_recurrentes_30d.copy()\n"
   ]
  },
  {
   "cell_type": "markdown",
   "id": "0f66db43",
   "metadata": {},
   "source": [
    "# Objetivo: Construcción de modelos para predecir: Cuándo los clientes volveran a comprar"
   ]
  },
  {
   "cell_type": "markdown",
   "id": "8e61402b",
   "metadata": {},
   "source": [
    "Preparación de datos"
   ]
  },
  {
   "cell_type": "code",
   "execution_count": null,
   "id": "f729a4a6",
   "metadata": {},
   "outputs": [
    {
     "name": "stdout",
     "output_type": "stream",
     "text": [
      "   usuario fecha_compra fecha_siguiente_compra  duration  event\n",
      "8   000166   2014-11-08             2014-11-25      17.0      1\n",
      "9   000166   2014-11-25                    NaT      33.0      0\n",
      "40  000998   2014-12-25             2014-12-28       3.0      1\n",
      "44  000a09   2014-10-07             2014-11-27      51.0      1\n",
      "45  000a09   2014-11-27             2014-12-04       7.0      1\n",
      "46  000a09   2014-12-04                    NaT      24.0      0\n",
      "52  000b65   2014-10-08             2014-10-16       8.0      1\n",
      "53  000b65   2014-10-16             2014-10-25       9.0      1\n",
      "54  000b65   2014-10-25             2014-10-31       6.0      1\n",
      "55  000b65   2014-10-31             2014-11-19      19.0      1\n"
     ]
    }
   ],
   "source": [
    "# Ordenar por usuario y fecha\n",
    "base_enriquecida = base_enriquecida.sort_values(['usuario', 'fecha_compra'])\n",
    "\n",
    "# Crear columna con la fecha de la siguiente compra para cada usuario (shift negativo)\n",
    "base_enriquecida['fecha_siguiente_compra'] = base_enriquecida.groupby('usuario')['fecha_compra'].shift(-1)\n",
    "\n",
    "# Calcular duración entre compras (en días)\n",
    "base_enriquecida['duration'] = (base_enriquecida['fecha_siguiente_compra'] - base_enriquecida['fecha_compra']).dt.days\n",
    "\n",
    "# El evento ocurre si existe fecha_siguiente_compra (1), o está censurado (0) si no hay siguiente compra\n",
    "base_enriquecida['event'] = base_enriquecida['fecha_siguiente_compra'].notnull().astype(int)\n",
    "\n",
    "# Para la última compra sin siguiente\n",
    "# Duration: diferencia entre fecha_compra y fecha_ref (fecha máxima de observación)\n",
    "fecha_ref = base_enriquecida['fecha_compra'].max()\n",
    "mask_censura = base_enriquecida['event'] == 0\n",
    "base_enriquecida.loc[mask_censura, 'duration'] = (fecha_ref - base_enriquecida.loc[mask_censura, 'fecha_compra']).dt.days\n",
    "\n",
    "# Eliminar filas con duración negativa o cero\n",
    "base_enriquecida = base_enriquecida[base_enriquecida['duration'] > 0]\n",
    "\n",
    "print(base_enriquecida[['usuario', 'fecha_compra', 'fecha_siguiente_compra', 'duration', 'event']].head(10))\n"
   ]
  },
  {
   "cell_type": "code",
   "execution_count": null,
   "id": "6824431d",
   "metadata": {},
   "outputs": [
    {
     "data": {
      "text/html": [
       "<div>\n",
       "<style scoped>\n",
       "    .dataframe tbody tr th:only-of-type {\n",
       "        vertical-align: middle;\n",
       "    }\n",
       "\n",
       "    .dataframe tbody tr th {\n",
       "        vertical-align: top;\n",
       "    }\n",
       "\n",
       "    .dataframe thead th {\n",
       "        text-align: right;\n",
       "    }\n",
       "</style>\n",
       "<table border=\"1\" class=\"dataframe\">\n",
       "  <thead>\n",
       "    <tr style=\"text-align: right;\">\n",
       "      <th></th>\n",
       "      <th>usuario</th>\n",
       "      <th>fecha_compra</th>\n",
       "      <th>productos_comprados</th>\n",
       "      <th>dif_dias</th>\n",
       "      <th>frequency_dynamic</th>\n",
       "      <th>monetary_dynamic</th>\n",
       "      <th>last_purchase_prior</th>\n",
       "      <th>recency_dynamic</th>\n",
       "      <th>mes</th>\n",
       "      <th>fecha_siguiente_compra</th>\n",
       "      <th>duration</th>\n",
       "      <th>event</th>\n",
       "    </tr>\n",
       "  </thead>\n",
       "  <tbody>\n",
       "    <tr>\n",
       "      <th>8</th>\n",
       "      <td>000166</td>\n",
       "      <td>2014-11-08</td>\n",
       "      <td>12</td>\n",
       "      <td>NaN</td>\n",
       "      <td>1</td>\n",
       "      <td>12</td>\n",
       "      <td>NaT</td>\n",
       "      <td>0.0</td>\n",
       "      <td>11</td>\n",
       "      <td>2014-11-25</td>\n",
       "      <td>17.0</td>\n",
       "      <td>1</td>\n",
       "    </tr>\n",
       "    <tr>\n",
       "      <th>9</th>\n",
       "      <td>000166</td>\n",
       "      <td>2014-11-25</td>\n",
       "      <td>37</td>\n",
       "      <td>17.0</td>\n",
       "      <td>2</td>\n",
       "      <td>49</td>\n",
       "      <td>2014-11-08</td>\n",
       "      <td>17.0</td>\n",
       "      <td>11</td>\n",
       "      <td>NaT</td>\n",
       "      <td>33.0</td>\n",
       "      <td>0</td>\n",
       "    </tr>\n",
       "    <tr>\n",
       "      <th>40</th>\n",
       "      <td>000998</td>\n",
       "      <td>2014-12-25</td>\n",
       "      <td>31</td>\n",
       "      <td>NaN</td>\n",
       "      <td>1</td>\n",
       "      <td>31</td>\n",
       "      <td>NaT</td>\n",
       "      <td>0.0</td>\n",
       "      <td>12</td>\n",
       "      <td>2014-12-28</td>\n",
       "      <td>3.0</td>\n",
       "      <td>1</td>\n",
       "    </tr>\n",
       "    <tr>\n",
       "      <th>44</th>\n",
       "      <td>000a09</td>\n",
       "      <td>2014-10-07</td>\n",
       "      <td>42</td>\n",
       "      <td>NaN</td>\n",
       "      <td>1</td>\n",
       "      <td>42</td>\n",
       "      <td>NaT</td>\n",
       "      <td>0.0</td>\n",
       "      <td>10</td>\n",
       "      <td>2014-11-27</td>\n",
       "      <td>51.0</td>\n",
       "      <td>1</td>\n",
       "    </tr>\n",
       "    <tr>\n",
       "      <th>45</th>\n",
       "      <td>000a09</td>\n",
       "      <td>2014-11-27</td>\n",
       "      <td>55</td>\n",
       "      <td>51.0</td>\n",
       "      <td>2</td>\n",
       "      <td>97</td>\n",
       "      <td>2014-10-07</td>\n",
       "      <td>51.0</td>\n",
       "      <td>11</td>\n",
       "      <td>2014-12-04</td>\n",
       "      <td>7.0</td>\n",
       "      <td>1</td>\n",
       "    </tr>\n",
       "  </tbody>\n",
       "</table>\n",
       "</div>"
      ],
      "text/plain": [
       "   usuario fecha_compra  productos_comprados  dif_dias  frequency_dynamic  \\\n",
       "8   000166   2014-11-08                   12       NaN                  1   \n",
       "9   000166   2014-11-25                   37      17.0                  2   \n",
       "40  000998   2014-12-25                   31       NaN                  1   \n",
       "44  000a09   2014-10-07                   42       NaN                  1   \n",
       "45  000a09   2014-11-27                   55      51.0                  2   \n",
       "\n",
       "    monetary_dynamic last_purchase_prior  recency_dynamic  mes  \\\n",
       "8                 12                 NaT              0.0   11   \n",
       "9                 49          2014-11-08             17.0   11   \n",
       "40                31                 NaT              0.0   12   \n",
       "44                42                 NaT              0.0   10   \n",
       "45                97          2014-10-07             51.0   11   \n",
       "\n",
       "   fecha_siguiente_compra  duration  event  \n",
       "8              2014-11-25      17.0      1  \n",
       "9                     NaT      33.0      0  \n",
       "40             2014-12-28       3.0      1  \n",
       "44             2014-11-27      51.0      1  \n",
       "45             2014-12-04       7.0      1  "
      ]
     },
     "execution_count": 13,
     "metadata": {},
     "output_type": "execute_result"
    }
   ],
   "source": [
    "base_enriquecida.head()"
   ]
  },
  {
   "cell_type": "markdown",
   "id": "0b8bfd70",
   "metadata": {},
   "source": [
    "# Modelos de supervivencia"
   ]
  },
  {
   "cell_type": "code",
   "execution_count": null,
   "id": "467ddd1b",
   "metadata": {},
   "outputs": [
    {
     "name": "stdout",
     "output_type": "stream",
     "text": [
      "(361232, 12)\n",
      "   usuario fecha_compra  productos_comprados  dif_dias  frequency_dynamic  \\\n",
      "8   000166   2014-11-08                   12       NaN                  1   \n",
      "9   000166   2014-11-25                   37      17.0                  2   \n",
      "40  000998   2014-12-25                   31       NaN                  1   \n",
      "44  000a09   2014-10-07                   42       NaN                  1   \n",
      "45  000a09   2014-11-27                   55      51.0                  2   \n",
      "\n",
      "    monetary_dynamic last_purchase_prior  recency_dynamic  mes  \\\n",
      "8                 12                 NaT              0.0   11   \n",
      "9                 49          2014-11-08             17.0   11   \n",
      "40                31                 NaT              0.0   12   \n",
      "44                42                 NaT              0.0   10   \n",
      "45                97          2014-10-07             51.0   11   \n",
      "\n",
      "   fecha_siguiente_compra  duration  event  \n",
      "8              2014-11-25      17.0      1  \n",
      "9                     NaT      33.0      0  \n",
      "40             2014-12-28       3.0      1  \n",
      "44             2014-11-27      51.0      1  \n",
      "45             2014-12-04       7.0      1  \n"
     ]
    }
   ],
   "source": [
    "# Realizar una copia de la base original \n",
    "base_supervivencia = base_enriquecida.copy()\n",
    "\n",
    "# Confirmar que la copia fue creada\n",
    "print(base_supervivencia.shape)\n",
    "print(base_supervivencia.head())"
   ]
  },
  {
   "cell_type": "markdown",
   "id": "d6d5eac1",
   "metadata": {},
   "source": [
    "Ajustar el modelo de supervivencia"
   ]
  },
  {
   "cell_type": "code",
   "execution_count": null,
   "id": "5672fad7",
   "metadata": {},
   "outputs": [
    {
     "data": {
      "text/html": [
       "<div>\n",
       "<style scoped>\n",
       "    .dataframe tbody tr th:only-of-type {\n",
       "        vertical-align: middle;\n",
       "    }\n",
       "\n",
       "    .dataframe tbody tr th {\n",
       "        vertical-align: top;\n",
       "    }\n",
       "\n",
       "    .dataframe thead th {\n",
       "        text-align: right;\n",
       "    }\n",
       "</style>\n",
       "<table border=\"1\" class=\"dataframe\">\n",
       "  <tbody>\n",
       "    <tr>\n",
       "      <th>model</th>\n",
       "      <td>lifelines.CoxPHFitter</td>\n",
       "    </tr>\n",
       "    <tr>\n",
       "      <th>duration col</th>\n",
       "      <td>'duration'</td>\n",
       "    </tr>\n",
       "    <tr>\n",
       "      <th>event col</th>\n",
       "      <td>'event'</td>\n",
       "    </tr>\n",
       "    <tr>\n",
       "      <th>baseline estimation</th>\n",
       "      <td>breslow</td>\n",
       "    </tr>\n",
       "    <tr>\n",
       "      <th>number of observations</th>\n",
       "      <td>361232</td>\n",
       "    </tr>\n",
       "    <tr>\n",
       "      <th>number of events observed</th>\n",
       "      <td>300111</td>\n",
       "    </tr>\n",
       "    <tr>\n",
       "      <th>partial log-likelihood</th>\n",
       "      <td>-3539840.91</td>\n",
       "    </tr>\n",
       "    <tr>\n",
       "      <th>time fit was run</th>\n",
       "      <td>2025-05-26 16:05:30 UTC</td>\n",
       "    </tr>\n",
       "  </tbody>\n",
       "</table>\n",
       "</div><table border=\"1\" class=\"dataframe\">\n",
       "  <thead>\n",
       "    <tr style=\"text-align: right;\">\n",
       "      <th style=\"min-width: 12px;\"></th>\n",
       "      <th style=\"min-width: 12px;\">coef</th>\n",
       "      <th style=\"min-width: 12px;\">exp(coef)</th>\n",
       "      <th style=\"min-width: 12px;\">se(coef)</th>\n",
       "      <th style=\"min-width: 12px;\">coef lower 95%</th>\n",
       "      <th style=\"min-width: 12px;\">coef upper 95%</th>\n",
       "      <th style=\"min-width: 12px;\">exp(coef) lower 95%</th>\n",
       "      <th style=\"min-width: 12px;\">exp(coef) upper 95%</th>\n",
       "      <th style=\"min-width: 12px;\">cmp to</th>\n",
       "      <th style=\"min-width: 12px;\">z</th>\n",
       "      <th style=\"min-width: 12px;\">p</th>\n",
       "      <th style=\"min-width: 12px;\">-log2(p)</th>\n",
       "    </tr>\n",
       "  </thead>\n",
       "  <tbody>\n",
       "    <tr>\n",
       "      <th>recency_dynamic</th>\n",
       "      <td>-0.02</td>\n",
       "      <td>0.98</td>\n",
       "      <td>0.00</td>\n",
       "      <td>-0.02</td>\n",
       "      <td>-0.02</td>\n",
       "      <td>0.98</td>\n",
       "      <td>0.98</td>\n",
       "      <td>0.00</td>\n",
       "      <td>-88.40</td>\n",
       "      <td>&lt;0.005</td>\n",
       "      <td>inf</td>\n",
       "    </tr>\n",
       "    <tr>\n",
       "      <th>frequency_dynamic</th>\n",
       "      <td>0.10</td>\n",
       "      <td>1.10</td>\n",
       "      <td>0.00</td>\n",
       "      <td>0.10</td>\n",
       "      <td>0.10</td>\n",
       "      <td>1.10</td>\n",
       "      <td>1.10</td>\n",
       "      <td>0.00</td>\n",
       "      <td>210.23</td>\n",
       "      <td>&lt;0.005</td>\n",
       "      <td>inf</td>\n",
       "    </tr>\n",
       "    <tr>\n",
       "      <th>monetary_dynamic</th>\n",
       "      <td>-0.00</td>\n",
       "      <td>1.00</td>\n",
       "      <td>0.00</td>\n",
       "      <td>-0.00</td>\n",
       "      <td>-0.00</td>\n",
       "      <td>1.00</td>\n",
       "      <td>1.00</td>\n",
       "      <td>0.00</td>\n",
       "      <td>-15.31</td>\n",
       "      <td>&lt;0.005</td>\n",
       "      <td>173.39</td>\n",
       "    </tr>\n",
       "    <tr>\n",
       "      <th>mes</th>\n",
       "      <td>-0.16</td>\n",
       "      <td>0.85</td>\n",
       "      <td>0.00</td>\n",
       "      <td>-0.17</td>\n",
       "      <td>-0.16</td>\n",
       "      <td>0.85</td>\n",
       "      <td>0.86</td>\n",
       "      <td>0.00</td>\n",
       "      <td>-55.39</td>\n",
       "      <td>&lt;0.005</td>\n",
       "      <td>inf</td>\n",
       "    </tr>\n",
       "  </tbody>\n",
       "</table><br><div>\n",
       "<style scoped>\n",
       "    .dataframe tbody tr th:only-of-type {\n",
       "        vertical-align: middle;\n",
       "    }\n",
       "\n",
       "    .dataframe tbody tr th {\n",
       "        vertical-align: top;\n",
       "    }\n",
       "\n",
       "    .dataframe thead th {\n",
       "        text-align: right;\n",
       "    }\n",
       "</style>\n",
       "<table border=\"1\" class=\"dataframe\">\n",
       "  <tbody>\n",
       "    <tr>\n",
       "      <th>Concordance</th>\n",
       "      <td>0.66</td>\n",
       "    </tr>\n",
       "    <tr>\n",
       "      <th>Partial AIC</th>\n",
       "      <td>7079689.83</td>\n",
       "    </tr>\n",
       "    <tr>\n",
       "      <th>log-likelihood ratio test</th>\n",
       "      <td>68781.38 on 4 df</td>\n",
       "    </tr>\n",
       "    <tr>\n",
       "      <th>-log2(p) of ll-ratio test</th>\n",
       "      <td>inf</td>\n",
       "    </tr>\n",
       "  </tbody>\n",
       "</table>\n",
       "</div>"
      ],
      "text/latex": [
       "\\begin{tabular}{lrrrrrrrrrrr}\n",
       " & coef & exp(coef) & se(coef) & coef lower 95% & coef upper 95% & exp(coef) lower 95% & exp(coef) upper 95% & cmp to & z & p & -log2(p) \\\\\n",
       "covariate &  &  &  &  &  &  &  &  &  &  &  \\\\\n",
       "recency_dynamic & -0.02 & 0.98 & 0.00 & -0.02 & -0.02 & 0.98 & 0.98 & 0.00 & -88.40 & 0.00 & inf \\\\\n",
       "frequency_dynamic & 0.10 & 1.10 & 0.00 & 0.10 & 0.10 & 1.10 & 1.10 & 0.00 & 210.23 & 0.00 & inf \\\\\n",
       "monetary_dynamic & -0.00 & 1.00 & 0.00 & -0.00 & -0.00 & 1.00 & 1.00 & 0.00 & -15.31 & 0.00 & 173.39 \\\\\n",
       "mes & -0.16 & 0.85 & 0.00 & -0.17 & -0.16 & 0.85 & 0.86 & 0.00 & -55.39 & 0.00 & inf \\\\\n",
       "\\end{tabular}\n"
      ],
      "text/plain": [
       "<lifelines.CoxPHFitter: fitted with 361232 total observations, 61121 right-censored observations>\n",
       "             duration col = 'duration'\n",
       "                event col = 'event'\n",
       "      baseline estimation = breslow\n",
       "   number of observations = 361232\n",
       "number of events observed = 300111\n",
       "   partial log-likelihood = -3539840.91\n",
       "         time fit was run = 2025-05-26 16:05:30 UTC\n",
       "\n",
       "---\n",
       "                   coef exp(coef)  se(coef)  coef lower 95%  coef upper 95% exp(coef) lower 95% exp(coef) upper 95%\n",
       "covariate                                                                                                          \n",
       "recency_dynamic   -0.02      0.98      0.00           -0.02           -0.02                0.98                0.98\n",
       "frequency_dynamic  0.10      1.10      0.00            0.10            0.10                1.10                1.10\n",
       "monetary_dynamic  -0.00      1.00      0.00           -0.00           -0.00                1.00                1.00\n",
       "mes               -0.16      0.85      0.00           -0.17           -0.16                0.85                0.86\n",
       "\n",
       "                   cmp to      z      p  -log2(p)\n",
       "covariate                                        \n",
       "recency_dynamic      0.00 -88.40 <0.005       inf\n",
       "frequency_dynamic    0.00 210.23 <0.005       inf\n",
       "monetary_dynamic     0.00 -15.31 <0.005    173.39\n",
       "mes                  0.00 -55.39 <0.005       inf\n",
       "---\n",
       "Concordance = 0.66\n",
       "Partial AIC = 7079689.83\n",
       "log-likelihood ratio test = 68781.38 on 4 df\n",
       "-log2(p) of ll-ratio test = inf"
      ]
     },
     "metadata": {},
     "output_type": "display_data"
    }
   ],
   "source": [
    "# Inicializar modelo CoxPH\n",
    "cph = CoxPHFitter()\n",
    "\n",
    "# Seleccionar columnas para el modelo (incluye duration y event)\n",
    "cols_modelo = ['duration', 'event', 'recency_dynamic', 'frequency_dynamic', 'monetary_dynamic', 'mes']\n",
    "\n",
    "# Ajustar modelo con los datos\n",
    "cph.fit(base_supervivencia[cols_modelo], duration_col='duration', event_col='event')\n",
    "\n",
    "# Mostrar resumen con coeficientes, p-values y tests\n",
    "cph.print_summary()\n"
   ]
  },
  {
   "cell_type": "code",
   "execution_count": null,
   "id": "bdbe47d2",
   "metadata": {},
   "outputs": [
    {
     "ename": "",
     "evalue": "",
     "output_type": "error",
     "traceback": [
      "\u001b[1;31mEl kernel se bloqueó al ejecutar código en la celda actual o en una celda anterior. \n",
      "\u001b[1;31mRevise el código de las celdas para identificar una posible causa del error. \n",
      "\u001b[1;31mHaga clic <a href='https://aka.ms/vscodeJupyterKernelCrash'>aquí</a> para obtener más información. \n",
      "\u001b[1;31mVea Jupyter <a href='command:jupyter.viewOutput'>log</a> para obtener más detalles."
     ]
    }
   ],
   "source": [
    "# Crear base de predicción con las variables necesarias\n",
    "X_pred = base_supervivencia[['recency_dynamic', 'frequency_dynamic', 'monetary_dynamic', 'mes']]"
   ]
  },
  {
   "cell_type": "code",
   "execution_count": null,
   "id": "0d7cd82d",
   "metadata": {},
   "outputs": [],
   "source": [
    "# 1. Predecir días esperados hasta próxima compra\n",
    "base_supervivencia['dias_hasta_proxima_compra'] = cph.predict_expectation(X_pred)\n",
    "\n",
    "# 2. Asegurar que 'fecha_compra' esté en formato datetime\n",
    "base_supervivencia['fecha_compra'] = pd.to_datetime(base_supervivencia['fecha_compra'])\n",
    "\n",
    "# 3. Calcular fecha estimada próxima compra sumando días esperados\n",
    "base_supervivencia['fecha_proxima_compra'] = base_supervivencia['fecha_compra'] + pd.to_timedelta(base_supervivencia['dias_hasta_proxima_compra'], unit='D')\n",
    "\n",
    "# 4. Mostrar las columnas relevantes para verificar\n",
    "print(base_supervivencia[['usuario', 'fecha_compra', 'dias_hasta_proxima_compra', 'fecha_proxima_compra']].head(10))\n"
   ]
  },
  {
   "cell_type": "code",
   "execution_count": null,
   "id": "875e5687",
   "metadata": {},
   "outputs": [
    {
     "name": "stdout",
     "output_type": "stream",
     "text": [
      "  usuario fecha_compra  dias_hasta_proxima_compra  \\\n",
      "0  000166   2014-11-25                  22.136895   \n",
      "1  000998   2014-12-25                  19.973480   \n",
      "2  000a09   2014-12-04                  19.347749   \n",
      "3  000b65   2014-12-22                  12.338302   \n",
      "4  000c7d   2014-11-01                  20.377711   \n",
      "5  000db9   2014-12-25                   7.018267   \n",
      "6  000dee   2014-12-27                  17.454387   \n",
      "7  0010a3   2014-12-25                   5.065570   \n",
      "8  0010a5   2014-12-16                  34.713619   \n",
      "9  0011b0   2014-11-17                  28.203318   \n",
      "\n",
      "           fecha_proxima_compra  \n",
      "0 2014-12-17 03:17:07.702950816  \n",
      "1 2015-01-13 23:21:48.690891480  \n",
      "2 2014-12-23 08:20:45.521089359  \n",
      "3 2015-01-03 08:07:09.333462820  \n",
      "4 2014-11-21 09:03:54.249511645  \n",
      "5 2015-01-01 00:26:18.263279100  \n",
      "6 2015-01-13 10:54:19.042894500  \n",
      "7 2014-12-30 01:34:25.243214805  \n",
      "8 2015-01-19 17:07:36.724265019  \n",
      "9 2014-12-15 04:52:46.695379307  \n"
     ]
    }
   ],
   "source": [
    "# Ordenamos por usuario y fecha_compra para que la primera fila sea la compra más reciente\n",
    "base_supervivencia = base_supervivencia.sort_values(['usuario', 'fecha_compra'], ascending=[True, False])\n",
    "\n",
    "# Seleccionamos solo la fila más reciente por usuario\n",
    "base_ultima_compra = base_supervivencia.groupby('usuario').first().reset_index()\n",
    "\n",
    "# Mostramos el resultado final\n",
    "print(base_ultima_compra[['usuario', 'fecha_compra', 'dias_hasta_proxima_compra', 'fecha_proxima_compra']].head(10))\n"
   ]
  },
  {
   "cell_type": "code",
   "execution_count": null,
   "id": "c3aab78b",
   "metadata": {},
   "outputs": [
    {
     "data": {
      "text/html": [
       "<div>\n",
       "<style scoped>\n",
       "    .dataframe tbody tr th:only-of-type {\n",
       "        vertical-align: middle;\n",
       "    }\n",
       "\n",
       "    .dataframe tbody tr th {\n",
       "        vertical-align: top;\n",
       "    }\n",
       "\n",
       "    .dataframe thead th {\n",
       "        text-align: right;\n",
       "    }\n",
       "</style>\n",
       "<table border=\"1\" class=\"dataframe\">\n",
       "  <thead>\n",
       "    <tr style=\"text-align: right;\">\n",
       "      <th></th>\n",
       "      <th>usuario</th>\n",
       "      <th>fecha_compra</th>\n",
       "      <th>productos_comprados</th>\n",
       "      <th>dif_dias</th>\n",
       "      <th>frequency_dynamic</th>\n",
       "      <th>monetary_dynamic</th>\n",
       "      <th>last_purchase_prior</th>\n",
       "      <th>recency_dynamic</th>\n",
       "      <th>mes</th>\n",
       "      <th>fecha_siguiente_compra</th>\n",
       "      <th>duration</th>\n",
       "      <th>event</th>\n",
       "      <th>dias_hasta_proxima_compra</th>\n",
       "      <th>fecha_proxima_compra</th>\n",
       "    </tr>\n",
       "  </thead>\n",
       "  <tbody>\n",
       "    <tr>\n",
       "      <th>0</th>\n",
       "      <td>000166</td>\n",
       "      <td>2014-11-25</td>\n",
       "      <td>37</td>\n",
       "      <td>17.0</td>\n",
       "      <td>2</td>\n",
       "      <td>49</td>\n",
       "      <td>2014-11-08</td>\n",
       "      <td>17.0</td>\n",
       "      <td>11</td>\n",
       "      <td>2014-11-25</td>\n",
       "      <td>33.0</td>\n",
       "      <td>0</td>\n",
       "      <td>22.136895</td>\n",
       "      <td>2014-12-17 03:17:07.702950816</td>\n",
       "    </tr>\n",
       "    <tr>\n",
       "      <th>1</th>\n",
       "      <td>000998</td>\n",
       "      <td>2014-12-25</td>\n",
       "      <td>31</td>\n",
       "      <td>NaN</td>\n",
       "      <td>1</td>\n",
       "      <td>31</td>\n",
       "      <td>NaT</td>\n",
       "      <td>0.0</td>\n",
       "      <td>12</td>\n",
       "      <td>2014-12-28</td>\n",
       "      <td>3.0</td>\n",
       "      <td>1</td>\n",
       "      <td>19.973480</td>\n",
       "      <td>2015-01-13 23:21:48.690891480</td>\n",
       "    </tr>\n",
       "    <tr>\n",
       "      <th>2</th>\n",
       "      <td>000a09</td>\n",
       "      <td>2014-12-04</td>\n",
       "      <td>52</td>\n",
       "      <td>7.0</td>\n",
       "      <td>3</td>\n",
       "      <td>149</td>\n",
       "      <td>2014-11-27</td>\n",
       "      <td>7.0</td>\n",
       "      <td>12</td>\n",
       "      <td>2014-12-04</td>\n",
       "      <td>24.0</td>\n",
       "      <td>0</td>\n",
       "      <td>19.347749</td>\n",
       "      <td>2014-12-23 08:20:45.521089359</td>\n",
       "    </tr>\n",
       "    <tr>\n",
       "      <th>3</th>\n",
       "      <td>000b65</td>\n",
       "      <td>2014-12-22</td>\n",
       "      <td>46</td>\n",
       "      <td>10.0</td>\n",
       "      <td>8</td>\n",
       "      <td>264</td>\n",
       "      <td>2014-12-12</td>\n",
       "      <td>10.0</td>\n",
       "      <td>12</td>\n",
       "      <td>2014-12-22</td>\n",
       "      <td>6.0</td>\n",
       "      <td>0</td>\n",
       "      <td>12.338302</td>\n",
       "      <td>2015-01-03 08:07:09.333462820</td>\n",
       "    </tr>\n",
       "    <tr>\n",
       "      <th>4</th>\n",
       "      <td>000c7d</td>\n",
       "      <td>2014-11-01</td>\n",
       "      <td>63</td>\n",
       "      <td>13.0</td>\n",
       "      <td>2</td>\n",
       "      <td>77</td>\n",
       "      <td>2014-10-19</td>\n",
       "      <td>13.0</td>\n",
       "      <td>11</td>\n",
       "      <td>2014-11-01</td>\n",
       "      <td>57.0</td>\n",
       "      <td>0</td>\n",
       "      <td>20.377711</td>\n",
       "      <td>2014-11-21 09:03:54.249511645</td>\n",
       "    </tr>\n",
       "  </tbody>\n",
       "</table>\n",
       "</div>"
      ],
      "text/plain": [
       "  usuario fecha_compra  productos_comprados  dif_dias  frequency_dynamic  \\\n",
       "0  000166   2014-11-25                   37      17.0                  2   \n",
       "1  000998   2014-12-25                   31       NaN                  1   \n",
       "2  000a09   2014-12-04                   52       7.0                  3   \n",
       "3  000b65   2014-12-22                   46      10.0                  8   \n",
       "4  000c7d   2014-11-01                   63      13.0                  2   \n",
       "\n",
       "   monetary_dynamic last_purchase_prior  recency_dynamic  mes  \\\n",
       "0                49          2014-11-08             17.0   11   \n",
       "1                31                 NaT              0.0   12   \n",
       "2               149          2014-11-27              7.0   12   \n",
       "3               264          2014-12-12             10.0   12   \n",
       "4                77          2014-10-19             13.0   11   \n",
       "\n",
       "  fecha_siguiente_compra  duration  event  dias_hasta_proxima_compra  \\\n",
       "0             2014-11-25      33.0      0                  22.136895   \n",
       "1             2014-12-28       3.0      1                  19.973480   \n",
       "2             2014-12-04      24.0      0                  19.347749   \n",
       "3             2014-12-22       6.0      0                  12.338302   \n",
       "4             2014-11-01      57.0      0                  20.377711   \n",
       "\n",
       "           fecha_proxima_compra  \n",
       "0 2014-12-17 03:17:07.702950816  \n",
       "1 2015-01-13 23:21:48.690891480  \n",
       "2 2014-12-23 08:20:45.521089359  \n",
       "3 2015-01-03 08:07:09.333462820  \n",
       "4 2014-11-21 09:03:54.249511645  "
      ]
     },
     "execution_count": 25,
     "metadata": {},
     "output_type": "execute_result"
    }
   ],
   "source": [
    "base_ultima_compra.head(5)"
   ]
  },
  {
   "cell_type": "markdown",
   "id": "6a257525",
   "metadata": {},
   "source": [
    "# Predecir los 3 productos más probables (baseline sencillo)"
   ]
  },
  {
   "cell_type": "code",
   "execution_count": null,
   "id": "ae00c7b9",
   "metadata": {},
   "outputs": [],
   "source": [
    "# Agrupar productos por usuario y sumar las cantidades\n",
    "productos_por_usuario = (\n",
    "    df.groupby(['usuario', 'producto'])['cantidad']\n",
    "    .sum()\n",
    "    .reset_index()\n",
    ")\n",
    "\n",
    "# Ordenar productos por usuario según cantidad comprada descendente\n",
    "productos_por_usuario = productos_por_usuario.sort_values(['usuario', 'cantidad'], ascending=[True, False])\n",
    "\n",
    "# Crear lista con los productos ordenados por cantidad para cada usuario\n",
    "productos_ordenados = (\n",
    "    productos_por_usuario.groupby('usuario')['producto']\n",
    "    .apply(list)\n",
    "    .reset_index(name='productos_ordenados')\n",
    ")\n"
   ]
  },
  {
   "cell_type": "code",
   "execution_count": null,
   "id": "e2a46372",
   "metadata": {},
   "outputs": [],
   "source": [
    "# Tomar solo los 3 primeros productos por usuario\n",
    "productos_ordenados['top_3_productos'] = productos_ordenados['productos_ordenados'].apply(lambda x: x[:3])"
   ]
  },
  {
   "cell_type": "code",
   "execution_count": null,
   "id": "7064fb27",
   "metadata": {},
   "outputs": [],
   "source": [
    "# Crear base de datos con los productos\n",
    "base_con_productos = base_enriquecida.merge(\n",
    "    productos_ordenados[['usuario', 'top_3_productos']],\n",
    "    on='usuario',\n",
    "    how='left'\n",
    ")\n",
    "\n",
    "# Ahora base_con_productos tiene la columna 'top_3_productos' con la predicción para cada usuario\n"
   ]
  },
  {
   "cell_type": "code",
   "execution_count": null,
   "id": "cb380180",
   "metadata": {},
   "outputs": [
    {
     "name": "stdout",
     "output_type": "stream",
     "text": [
      "  usuario                          top_3_productos\n",
      "0  000166  [PROD-62e82f, PROD-0256a8, PROD-4d5e04]\n",
      "1  000166  [PROD-62e82f, PROD-0256a8, PROD-4d5e04]\n",
      "2  000998  [PROD-74efc1, PROD-dab6fc, PROD-5eb939]\n",
      "3  000a09  [PROD-3bea74, PROD-412320, PROD-66a332]\n",
      "4  000a09  [PROD-3bea74, PROD-412320, PROD-66a332]\n"
     ]
    }
   ],
   "source": [
    "print(base_con_productos[['usuario', 'top_3_productos']].head())"
   ]
  },
  {
   "cell_type": "markdown",
   "id": "256224d7",
   "metadata": {},
   "source": [
    "Salida"
   ]
  },
  {
   "cell_type": "code",
   "execution_count": null,
   "id": "69470be5",
   "metadata": {},
   "outputs": [
    {
     "data": {
      "text/html": [
       "<div>\n",
       "<style scoped>\n",
       "    .dataframe tbody tr th:only-of-type {\n",
       "        vertical-align: middle;\n",
       "    }\n",
       "\n",
       "    .dataframe tbody tr th {\n",
       "        vertical-align: top;\n",
       "    }\n",
       "\n",
       "    .dataframe thead th {\n",
       "        text-align: right;\n",
       "    }\n",
       "</style>\n",
       "<table border=\"1\" class=\"dataframe\">\n",
       "  <thead>\n",
       "    <tr style=\"text-align: right;\">\n",
       "      <th></th>\n",
       "      <th>usuario</th>\n",
       "      <th>fecha_proxima_compra</th>\n",
       "      <th>top_3_productos</th>\n",
       "    </tr>\n",
       "  </thead>\n",
       "  <tbody>\n",
       "    <tr>\n",
       "      <th>0</th>\n",
       "      <td>000166</td>\n",
       "      <td>2014-12-17 03:17:07.702950816</td>\n",
       "      <td>[PROD-62e82f, PROD-0256a8, PROD-4d5e04]</td>\n",
       "    </tr>\n",
       "    <tr>\n",
       "      <th>1</th>\n",
       "      <td>000166</td>\n",
       "      <td>2014-12-17 03:17:07.702950816</td>\n",
       "      <td>[PROD-62e82f, PROD-0256a8, PROD-4d5e04]</td>\n",
       "    </tr>\n",
       "    <tr>\n",
       "      <th>2</th>\n",
       "      <td>000998</td>\n",
       "      <td>2015-01-13 23:21:48.690891480</td>\n",
       "      <td>[PROD-74efc1, PROD-dab6fc, PROD-5eb939]</td>\n",
       "    </tr>\n",
       "    <tr>\n",
       "      <th>3</th>\n",
       "      <td>000a09</td>\n",
       "      <td>2014-12-23 08:20:45.521089359</td>\n",
       "      <td>[PROD-3bea74, PROD-412320, PROD-66a332]</td>\n",
       "    </tr>\n",
       "    <tr>\n",
       "      <th>4</th>\n",
       "      <td>000a09</td>\n",
       "      <td>2014-12-23 08:20:45.521089359</td>\n",
       "      <td>[PROD-3bea74, PROD-412320, PROD-66a332]</td>\n",
       "    </tr>\n",
       "  </tbody>\n",
       "</table>\n",
       "</div>"
      ],
      "text/plain": [
       "  usuario          fecha_proxima_compra  \\\n",
       "0  000166 2014-12-17 03:17:07.702950816   \n",
       "1  000166 2014-12-17 03:17:07.702950816   \n",
       "2  000998 2015-01-13 23:21:48.690891480   \n",
       "3  000a09 2014-12-23 08:20:45.521089359   \n",
       "4  000a09 2014-12-23 08:20:45.521089359   \n",
       "\n",
       "                           top_3_productos  \n",
       "0  [PROD-62e82f, PROD-0256a8, PROD-4d5e04]  \n",
       "1  [PROD-62e82f, PROD-0256a8, PROD-4d5e04]  \n",
       "2  [PROD-74efc1, PROD-dab6fc, PROD-5eb939]  \n",
       "3  [PROD-3bea74, PROD-412320, PROD-66a332]  \n",
       "4  [PROD-3bea74, PROD-412320, PROD-66a332]  "
      ]
     },
     "execution_count": 31,
     "metadata": {},
     "output_type": "execute_result"
    }
   ],
   "source": [
    "# Se toma la información estimada por el modelo y los productos top para cada usuario\n",
    "base_ultima_compra[['usuario', 'fecha_proxima_compra']].head()\n",
    "base_con_productos[['usuario', 'top_3_productos']].head()\n",
    "\n",
    "# Unir las tablas por la columna \"usuario\"\n",
    "base_final = base_ultima_compra.merge(\n",
    "    base_con_productos[['usuario', 'top_3_productos']],\n",
    "    on='usuario',\n",
    "    how='left'  # Mantiene todos los registros de base_ultima_compra\n",
    ")\n",
    "\n",
    "# Paso 3: Verifica el resultado\n",
    "base_final[[\"usuario\",\"fecha_proxima_compra\",\"top_3_productos\"]].head()\n"
   ]
  },
  {
   "cell_type": "markdown",
   "id": "31f1cecd",
   "metadata": {},
   "source": [
    "# Guardar la salida en un .parquet"
   ]
  },
  {
   "cell_type": "code",
   "execution_count": null,
   "id": "443d858d",
   "metadata": {},
   "outputs": [
    {
     "name": "stdout",
     "output_type": "stream",
     "text": [
      "✅ Archivo guardado en cleaned-data/TRM550/resultados_usuarios.parquet\n"
     ]
    }
   ],
   "source": [
    "os.makedirs('cleaned-data/TRM550', exist_ok=True)\n",
    "base_final.to_parquet('cleaned-data/TRM550/resultados_usuarios.parquet', index=False)\n",
    "print(\"✅ Archivo guardado en cleaned-data/TRM550/resultados_usuarios.parquet\")"
   ]
  },
  {
   "cell_type": "markdown",
   "id": "fad2ece1",
   "metadata": {},
   "source": [
    "# Subir el archivo a S3"
   ]
  },
  {
   "cell_type": "code",
   "execution_count": null,
   "id": "bcc553e0",
   "metadata": {},
   "outputs": [
    {
     "name": "stdout",
     "output_type": "stream",
     "text": [
      "✅ Archivo subido exitosamente a s3://assessment-86fc5eb8/cleaned-data/TRM550/resultados_usuarios.parquet\n"
     ]
    }
   ],
   "source": [
    "bucket_name = 'assessment-86fc5eb8'\n",
    "ruta_s3 = 'cleaned-data/TRM550/resultados_usuarios.parquet'\n",
    "\n",
    "s3.upload_file('cleaned-data/TRM550/resultados_usuarios.parquet', bucket_name, ruta_s3)\n",
    "print(f\"✅ Archivo subido exitosamente a s3://{bucket_name}/{ruta_s3}\")"
   ]
  },
  {
   "cell_type": "markdown",
   "id": "6e320d8c",
   "metadata": {},
   "source": [
    "# Verificar si el archivo se subio a S3"
   ]
  },
  {
   "cell_type": "code",
   "execution_count": null,
   "id": "30530134",
   "metadata": {},
   "outputs": [
    {
     "name": "stdout",
     "output_type": "stream",
     "text": [
      "✅ Archivo descargado como resultados_usuarios_descargado.parquet\n",
      "✅ El archivo fue descargado correctamente y existe en el sistema de archivos local.\n"
     ]
    }
   ],
   "source": [
    "# Parámetros del bucket y archivo\n",
    "bucket_name = 'assessment-86fc5eb8'\n",
    "key = 'cleaned-data/TRM550/resultados_usuarios.parquet'\n",
    "local_path = 'resultados_usuarios_descargado.parquet'\n",
    "\n",
    "# Sesión con credenciales explícitas\n",
    "session = boto3.Session(\n",
    "    aws_access_key_id=ACCESS_KEY,\n",
    "    aws_secret_access_key=SECRET_KEY,\n",
    "    region_name='us-east-1'\n",
    ")\n",
    "s3 = session.client('s3')\n",
    "\n",
    "# Descargar archivo desde S3\n",
    "s3.download_file(bucket_name, key, local_path)\n",
    "print(f\"✅ Archivo descargado como {local_path}\")\n",
    "\n",
    "# Comprobar que el archivo existe localmente\n",
    "if os.path.exists(local_path):\n",
    "    print(\"✅ El archivo fue descargado correctamente y existe en el sistema de archivos local.\")\n",
    "else:\n",
    "    print(\"❌ El archivo no se encuentra en el sistema de archivos local.\")"
   ]
  }
 ],
 "metadata": {
  "kernelspec": {
   "display_name": ".venv",
   "language": "python",
   "name": "python3"
  },
  "language_info": {
   "codemirror_mode": {
    "name": "ipython",
    "version": 3
   },
   "file_extension": ".py",
   "mimetype": "text/x-python",
   "name": "python",
   "nbconvert_exporter": "python",
   "pygments_lexer": "ipython3",
   "version": "3.12.1"
  }
 },
 "nbformat": 4,
 "nbformat_minor": 5
}
